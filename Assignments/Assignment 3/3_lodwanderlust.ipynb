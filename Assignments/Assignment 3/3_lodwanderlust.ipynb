{
 "cells": [
  {
   "cell_type": "markdown",
   "metadata": {
    "id": "KV-UrkvK3HBQ"
   },
   "source": [
    "# Data-Driven Research Assignment 3: Linked Open Data\n",
    "This notebook contains the third, collaborative, graded assignment of the 2023 Data-Driven Research course. In this assignment you'll use Linked Open Data tools in order to search for information on the Web in a more thorough way than with Google.\n",
    "\n",
    "To complete the assignment, complete the highlighted **Part 1, Part 2, Part 3 and Part 4**."
   ]
  },
  {
   "cell_type": "markdown",
   "metadata": {
    "id": "13WY-Pd4m1Nq"
   },
   "source": [
    "This is a collaborative assignment. In the text cell below, please include all the names of your group members.\n",
    "\n",
    "If you used code or a solution from the internet (such as StackOverflow) or another external resource, please make reference to it (in any format). Unattributed copied code will be considered plagiarism and therefore fraud.\n"
   ]
  },
  {
   "cell_type": "markdown",
   "metadata": {
    "id": "FnYtJb9olXd0"
   },
   "source": [
    "**Authors of this answer:**"
   ]
  },
  {
   "cell_type": "markdown",
   "metadata": {
    "id": "gV4eOyrVqRHQ"
   },
   "source": [
    "# 1. Introduction\n",
    "\n",
    "In this exercise, you'll experiment with a very explicit approach to semantics, and experience how powerful a little semantics can be when searching.\n",
    "\n",
    "You'll use the DBpedia knowledge base, essentially the content of Wikipedia in machine readable form, and explore what explicit semantic enables using [SPARQL](http://en.wikipedia.org/wiki/SPARQL). Queries allowing you to query and search through the Web of Linked Open Data. We will use the Python SPARQLWrapper library to access the DBpedia endpoint.\n",
    "\n",
    "## 1.1. RDF\n",
    "Linked Open Data consists of a huge number of small facts, in the form of RDF triples, <*Subject*, *Predicate*, *Object*>, which each consists of a pair of concepts or entities and a relationship between them, such as `Rembrandt birthPlace Leiden`. We work specifically with DBpedia's machine readable information from Wikipedia, in this case http://dbpedia.org/page/Rembrandt:\n",
    "`dbr:Rembrandt dbo:birthPlace dbr:Leiden`\n",
    "\n",
    "It's hard to guess upfront how information is encoded in DBpedia, and linked data is all about having unique identifiers for every entity or concept.   The best way is to look at examples, and use google to kickstart to find a particular DBpedia entity.\n",
    "\n",
    "For example, Google \"dbpedia rembrandt\" which will give you a neat page with DBpedia facts about him (https://dbpedia.org/page/Rembrandt).   If you look at the link of the \"About: Rembrandt\" you find the unique link that is the identifier of this entity is http://dbpedia.org/resource/Rembrandt, and entering this link/ID in your browser will generate the overview page. \n",
    "\n",
    "Inside DBpedia, you can use a shorthand  `dbr:Rembrandt` (which is defined to unfold to http://dbpedia.org/resource/Rembrandt) as the unique ID, but it also works if you use the long URL!  Recall that DBpedia does not have pages, but only countless RDF triples, and the overview page is just the output of all triples, <`dbr:Rembrandt` *Predicate*, *Object*>, allowing you also to see what further relations and concepts to explore.\n",
    "\n",
    "## 1.2. SPARQL\n",
    "SPARQL is the designated query language for RDF modelled on an extended SQL relational database query language.  It uses natural language words like SELECT, DISTINCT, WHERE, ORDER BY, and LIMIT in a very specific way. We introduce it by example, but feel free to backtrack to one of the many tutorial and introductions on the web.  "
   ]
  },
  {
   "cell_type": "markdown",
   "metadata": {
    "id": "uaPXV7qlq9oa"
   },
   "source": [
    "# 2. Working with SPARQL queries\n",
    "\n",
    "There is a large database of facts derived from Wikipedia, called [DBpedia](http://dbpedia.org/About), which contains information about everything and the rest.  Let's look at American Films in the first part of this assignment. You will access a so-called SPARQL endpoint for DBpedia through Python. Each film in the category American Films has as a fact about it in DBpedia that is has a relationship with the category American Films, namely, the `dct:subject` property. That is, the film Pulp Fiction has an RDF triple \n",
    "`dbr:Pulp_Fiction dct:subject category:American_films`\n",
    "\n",
    "If you put the name of the entity `Pulp_Fiction`, so `dbr:Pulp_Fiction` which is shorthand for http://dbpedia.org/resource/Pulp_Fiction, your browser will generate a page http://dbpedia.org/page/Pulp_Fiction with a selection of facts  <`dbr:Pulp_Fiction`, ?, ?> in the data base.\n",
    "\n",
    "Now, let's access this database through Python. We will need the SPARQLWrapper, which does not come with Google Colab by default, so we should install it:"
   ]
  },
  {
   "cell_type": "code",
   "execution_count": 48,
   "metadata": {},
   "outputs": [
    {
     "name": "stdout",
     "output_type": "stream",
     "text": [
      "Requirement already satisfied: sparqlwrapper in /Users/george/Desktop/Uni/Development/DDR23/venv/lib/python3.10/site-packages (2.0.0)\r\n",
      "Requirement already satisfied: rdflib>=6.1.1 in /Users/george/Desktop/Uni/Development/DDR23/venv/lib/python3.10/site-packages (from sparqlwrapper) (6.3.2)\r\n",
      "Requirement already satisfied: isodate<0.7.0,>=0.6.0 in /Users/george/Desktop/Uni/Development/DDR23/venv/lib/python3.10/site-packages (from rdflib>=6.1.1->sparqlwrapper) (0.6.1)\r\n",
      "Requirement already satisfied: pyparsing<4,>=2.1.0 in /Users/george/Desktop/Uni/Development/DDR23/venv/lib/python3.10/site-packages (from rdflib>=6.1.1->sparqlwrapper) (3.0.9)\r\n",
      "Requirement already satisfied: six in /Users/george/Desktop/Uni/Development/DDR23/venv/lib/python3.10/site-packages (from isodate<0.7.0,>=0.6.0->rdflib>=6.1.1->sparqlwrapper) (1.16.0)\r\n"
     ]
    }
   ],
   "source": [
    "!pip install sparqlwrapper"
   ]
  },
  {
   "cell_type": "markdown",
   "metadata": {},
   "source": [
    "Then, we are able to import it and choose the DBPedia endpoint to access that database:"
   ]
  },
  {
   "cell_type": "code",
   "execution_count": 49,
   "metadata": {},
   "outputs": [],
   "source": [
    "from SPARQLWrapper import SPARQLWrapper\n",
    "import pandas as pd\n",
    "from io import StringIO\n",
    "from IPython.display import display\n",
    "\n",
    "# Specify the DBPedia endpoint\n",
    "sparql = SPARQLWrapper(\"http://dbpedia.org/sparql\")\n",
    "\n",
    "# Specify that we want results in the CSV format\n",
    "sparql.setReturnFormat('csv')"
   ]
  },
  {
   "cell_type": "markdown",
   "metadata": {},
   "source": [
    "Now, we can try some SPARQL queries. First we set the query as a multi-line string, and then we use the query function to actually run the query.\n",
    "\n",
    "Note that in the query below, ?film is a variable name, just like a Python variable - we could rename it to anything else, and the result would be the same."
   ]
  },
  {
   "cell_type": "code",
   "execution_count": 50,
   "metadata": {},
   "outputs": [
    {
     "name": "stdout",
     "output_type": "stream",
     "text": [
      "\"film\"\n",
      "\"http://dbpedia.org/resource/Cabin_Fever:_Patient_Zero\"\n",
      "\"http://dbpedia.org/resource/Cabin_Fever_(2016_film)\"\n",
      "\"http://dbpedia.org/resource/Caesar_and_Otto's_Deadly_Xmas\"\n",
      "\"http://dbpedia.org/res\n"
     ]
    }
   ],
   "source": [
    "sparql.setQuery(\"\"\"\n",
    "    SELECT ?film \n",
    "    WHERE {?film dct:subject dbc:2010s_American_films} \n",
    "    LIMIT 1000\n",
    "\"\"\")\n",
    "\n",
    "result = sparql.query().convert().decode(\"utf-8\") \n",
    "print(result[:200])"
   ]
  },
  {
   "cell_type": "markdown",
   "metadata": {},
   "source": [
    "The result variable now contains a list in CSV format of 1000 links to 2010s American films on dbpedia (we limited the number of results to 1000, but it can be increased). To make it easier to visualize, let's turn it into a Pandas dataframe (this will become more useful as we retrieve more properties):"
   ]
  },
  {
   "cell_type": "code",
   "execution_count": 51,
   "metadata": {},
   "outputs": [
    {
     "data": {
      "text/plain": "                                                  film\n0    http://dbpedia.org/resource/Cabin_Fever:_Patie...\n1    http://dbpedia.org/resource/Cabin_Fever_(2016_...\n2    http://dbpedia.org/resource/Caesar_and_Otto's_...\n3         http://dbpedia.org/resource/Café_(2010_film)\n4    http://dbpedia.org/resource/Café_Society_(2016...\n..                                                 ...\n995  http://dbpedia.org/resource/Johnny_English_Str...\n996  http://dbpedia.org/resource/Johnny_Frank_Garre...\n997             http://dbpedia.org/resource/Joint_Body\n998            http://dbpedia.org/resource/Jojo_Rabbit\n999      http://dbpedia.org/resource/Joker_(2019_film)\n\n[1000 rows x 1 columns]",
      "text/html": "<div>\n<style scoped>\n    .dataframe tbody tr th:only-of-type {\n        vertical-align: middle;\n    }\n\n    .dataframe tbody tr th {\n        vertical-align: top;\n    }\n\n    .dataframe thead th {\n        text-align: right;\n    }\n</style>\n<table border=\"1\" class=\"dataframe\">\n  <thead>\n    <tr style=\"text-align: right;\">\n      <th></th>\n      <th>film</th>\n    </tr>\n  </thead>\n  <tbody>\n    <tr>\n      <th>0</th>\n      <td>http://dbpedia.org/resource/Cabin_Fever:_Patie...</td>\n    </tr>\n    <tr>\n      <th>1</th>\n      <td>http://dbpedia.org/resource/Cabin_Fever_(2016_...</td>\n    </tr>\n    <tr>\n      <th>2</th>\n      <td>http://dbpedia.org/resource/Caesar_and_Otto's_...</td>\n    </tr>\n    <tr>\n      <th>3</th>\n      <td>http://dbpedia.org/resource/Café_(2010_film)</td>\n    </tr>\n    <tr>\n      <th>4</th>\n      <td>http://dbpedia.org/resource/Café_Society_(2016...</td>\n    </tr>\n    <tr>\n      <th>...</th>\n      <td>...</td>\n    </tr>\n    <tr>\n      <th>995</th>\n      <td>http://dbpedia.org/resource/Johnny_English_Str...</td>\n    </tr>\n    <tr>\n      <th>996</th>\n      <td>http://dbpedia.org/resource/Johnny_Frank_Garre...</td>\n    </tr>\n    <tr>\n      <th>997</th>\n      <td>http://dbpedia.org/resource/Joint_Body</td>\n    </tr>\n    <tr>\n      <th>998</th>\n      <td>http://dbpedia.org/resource/Jojo_Rabbit</td>\n    </tr>\n    <tr>\n      <th>999</th>\n      <td>http://dbpedia.org/resource/Joker_(2019_film)</td>\n    </tr>\n  </tbody>\n</table>\n<p>1000 rows × 1 columns</p>\n</div>"
     },
     "execution_count": 51,
     "metadata": {},
     "output_type": "execute_result"
    }
   ],
   "source": [
    "df = pd.read_csv(StringIO(result), sep=\",\")\n",
    "df"
   ]
  },
  {
   "cell_type": "markdown",
   "metadata": {},
   "source": [
    "We see that the enitities, e.g. `dbc:American_films` are URI's referring to a unique entity in the linked open data cloud. So the name is a unique ID, in this case shorthand for http://dbpedia.org/resource/Category:2010_American_films.  \n",
    "\n",
    "Take a closer look at that SPARQL query. Can you figure out how it works? If you're familiar with structured query languages like SQL, you'll recognize many aspects. If this is completely new to you, there are still many recognizable words to help you interpret this query. Let's get back to this later.\n",
    "\n",
    "To see the power of this form of searching, let's try a slightly more complex query, where you add a second RDF-like condition to the query, separated from the first by a dot `.` representing a `join` or `AND`:"
   ]
  },
  {
   "cell_type": "code",
   "execution_count": 52,
   "metadata": {},
   "outputs": [
    {
     "data": {
      "text/plain": "                                                  film   \n0    http://dbpedia.org/resource/Cabin_Fever:_Patie...  \\\n1    http://dbpedia.org/resource/Cabin_Fever:_Patie...   \n2    http://dbpedia.org/resource/Cabin_Fever:_Patie...   \n3    http://dbpedia.org/resource/Cabin_Fever:_Patie...   \n4    http://dbpedia.org/resource/Cabin_Fever:_Patie...   \n..                                                 ...   \n995          http://dbpedia.org/resource/Scary_Movie_5   \n996          http://dbpedia.org/resource/Scary_Movie_5   \n997          http://dbpedia.org/resource/Scary_Movie_5   \n998          http://dbpedia.org/resource/Scary_Movie_5   \n999          http://dbpedia.org/resource/Scary_Movie_5   \n\n                                                actor  \n0            http://dbpedia.org/resource/Brando_Eaton  \n1            http://dbpedia.org/resource/Ryan_Donowho  \n2            http://dbpedia.org/resource/Lydia_Hearst  \n3          http://dbpedia.org/resource/Jillian_Murray  \n4              http://dbpedia.org/resource/Sean_Astin  \n..                                                ...  \n995          http://dbpedia.org/resource/J._P._Manoux  \n996           http://dbpedia.org/resource/Terry_Crews  \n997        http://dbpedia.org/resource/Ashley_Tisdale  \n998       http://dbpedia.org/resource/Jerry_O'Connell  \n999  http://dbpedia.org/resource/Kate_Walsh_(actress)  \n\n[1000 rows x 2 columns]",
      "text/html": "<div>\n<style scoped>\n    .dataframe tbody tr th:only-of-type {\n        vertical-align: middle;\n    }\n\n    .dataframe tbody tr th {\n        vertical-align: top;\n    }\n\n    .dataframe thead th {\n        text-align: right;\n    }\n</style>\n<table border=\"1\" class=\"dataframe\">\n  <thead>\n    <tr style=\"text-align: right;\">\n      <th></th>\n      <th>film</th>\n      <th>actor</th>\n    </tr>\n  </thead>\n  <tbody>\n    <tr>\n      <th>0</th>\n      <td>http://dbpedia.org/resource/Cabin_Fever:_Patie...</td>\n      <td>http://dbpedia.org/resource/Brando_Eaton</td>\n    </tr>\n    <tr>\n      <th>1</th>\n      <td>http://dbpedia.org/resource/Cabin_Fever:_Patie...</td>\n      <td>http://dbpedia.org/resource/Ryan_Donowho</td>\n    </tr>\n    <tr>\n      <th>2</th>\n      <td>http://dbpedia.org/resource/Cabin_Fever:_Patie...</td>\n      <td>http://dbpedia.org/resource/Lydia_Hearst</td>\n    </tr>\n    <tr>\n      <th>3</th>\n      <td>http://dbpedia.org/resource/Cabin_Fever:_Patie...</td>\n      <td>http://dbpedia.org/resource/Jillian_Murray</td>\n    </tr>\n    <tr>\n      <th>4</th>\n      <td>http://dbpedia.org/resource/Cabin_Fever:_Patie...</td>\n      <td>http://dbpedia.org/resource/Sean_Astin</td>\n    </tr>\n    <tr>\n      <th>...</th>\n      <td>...</td>\n      <td>...</td>\n    </tr>\n    <tr>\n      <th>995</th>\n      <td>http://dbpedia.org/resource/Scary_Movie_5</td>\n      <td>http://dbpedia.org/resource/J._P._Manoux</td>\n    </tr>\n    <tr>\n      <th>996</th>\n      <td>http://dbpedia.org/resource/Scary_Movie_5</td>\n      <td>http://dbpedia.org/resource/Terry_Crews</td>\n    </tr>\n    <tr>\n      <th>997</th>\n      <td>http://dbpedia.org/resource/Scary_Movie_5</td>\n      <td>http://dbpedia.org/resource/Ashley_Tisdale</td>\n    </tr>\n    <tr>\n      <th>998</th>\n      <td>http://dbpedia.org/resource/Scary_Movie_5</td>\n      <td>http://dbpedia.org/resource/Jerry_O'Connell</td>\n    </tr>\n    <tr>\n      <th>999</th>\n      <td>http://dbpedia.org/resource/Scary_Movie_5</td>\n      <td>http://dbpedia.org/resource/Kate_Walsh_(actress)</td>\n    </tr>\n  </tbody>\n</table>\n<p>1000 rows × 2 columns</p>\n</div>"
     },
     "execution_count": 52,
     "metadata": {},
     "output_type": "execute_result"
    }
   ],
   "source": [
    "sparql.setQuery(\"\"\"\n",
    "    SELECT ?film ?actor\n",
    "    WHERE {?film dct:subject dbc:2010s_American_films . ?film dbo:starring ?actor } \n",
    "    LIMIT 1000\n",
    "\"\"\")\n",
    "\n",
    "result = sparql.query().convert().decode(\"utf-8\") \n",
    "df = pd.read_csv(StringIO(result), sep=\",\")\n",
    "df"
   ]
  },
  {
   "cell_type": "markdown",
   "metadata": {},
   "source": [
    "You should now get a table with American films and the actors that have played in them. This list is not complete. The content of DBpedia is based on the Infoboxes of Wikipedia pages, which have a standard format. The knowledge in DBpedia is as good as the encyclopedic information on Wikipedia. Not all actors per film are listed and not all films and actors have their own Wikipedia article.\n",
    "\n",
    "Try a few more SPARQL queries, given below. See if you can figure out before hand what results they will give:"
   ]
  },
  {
   "cell_type": "code",
   "execution_count": 53,
   "metadata": {},
   "outputs": [
    {
     "data": {
      "text/plain": "                                                 actor\n0             http://dbpedia.org/resource/Brando_Eaton\n1             http://dbpedia.org/resource/Ryan_Donowho\n2             http://dbpedia.org/resource/Lydia_Hearst\n3           http://dbpedia.org/resource/Jillian_Murray\n4               http://dbpedia.org/resource/Sean_Astin\n..                                                 ...\n995            http://dbpedia.org/resource/Chris_Zylka\n996          http://dbpedia.org/resource/Louisa_Krause\n997           http://dbpedia.org/resource/Dianna_Agron\n998         http://dbpedia.org/resource/Scott_Speedman\n999  http://dbpedia.org/resource/Kate_Burton_(actress)\n\n[1000 rows x 1 columns]",
      "text/html": "<div>\n<style scoped>\n    .dataframe tbody tr th:only-of-type {\n        vertical-align: middle;\n    }\n\n    .dataframe tbody tr th {\n        vertical-align: top;\n    }\n\n    .dataframe thead th {\n        text-align: right;\n    }\n</style>\n<table border=\"1\" class=\"dataframe\">\n  <thead>\n    <tr style=\"text-align: right;\">\n      <th></th>\n      <th>actor</th>\n    </tr>\n  </thead>\n  <tbody>\n    <tr>\n      <th>0</th>\n      <td>http://dbpedia.org/resource/Brando_Eaton</td>\n    </tr>\n    <tr>\n      <th>1</th>\n      <td>http://dbpedia.org/resource/Ryan_Donowho</td>\n    </tr>\n    <tr>\n      <th>2</th>\n      <td>http://dbpedia.org/resource/Lydia_Hearst</td>\n    </tr>\n    <tr>\n      <th>3</th>\n      <td>http://dbpedia.org/resource/Jillian_Murray</td>\n    </tr>\n    <tr>\n      <th>4</th>\n      <td>http://dbpedia.org/resource/Sean_Astin</td>\n    </tr>\n    <tr>\n      <th>...</th>\n      <td>...</td>\n    </tr>\n    <tr>\n      <th>995</th>\n      <td>http://dbpedia.org/resource/Chris_Zylka</td>\n    </tr>\n    <tr>\n      <th>996</th>\n      <td>http://dbpedia.org/resource/Louisa_Krause</td>\n    </tr>\n    <tr>\n      <th>997</th>\n      <td>http://dbpedia.org/resource/Dianna_Agron</td>\n    </tr>\n    <tr>\n      <th>998</th>\n      <td>http://dbpedia.org/resource/Scott_Speedman</td>\n    </tr>\n    <tr>\n      <th>999</th>\n      <td>http://dbpedia.org/resource/Kate_Burton_(actress)</td>\n    </tr>\n  </tbody>\n</table>\n<p>1000 rows × 1 columns</p>\n</div>"
     },
     "execution_count": 53,
     "metadata": {},
     "output_type": "execute_result"
    }
   ],
   "source": [
    "sparql.setQuery(\"\"\"\n",
    "    SELECT DISTINCT ?actor\n",
    "    WHERE {?film dct:subject dbc:2010s_American_films . ?film dbo:starring ?actor } \n",
    "    LIMIT 1000\n",
    "\"\"\")\n",
    "\n",
    "result = sparql.query().convert().decode(\"utf-8\") \n",
    "df = pd.read_csv(StringIO(result), sep=\",\")\n",
    "df"
   ]
  },
  {
   "cell_type": "code",
   "execution_count": 54,
   "metadata": {},
   "outputs": [
    {
     "data": {
      "text/plain": "     callret-0                                              actor\n0           49           http://dbpedia.org/resource/James_Franco\n1           44            http://dbpedia.org/resource/Danny_Trejo\n2           34           http://dbpedia.org/resource/Nicolas_Cage\n3           31           http://dbpedia.org/resource/Danny_Glover\n4           31           http://dbpedia.org/resource/Eric_Roberts\n..         ...                                                ...\n995          7              http://dbpedia.org/resource/Cody_Horn\n996          7  http://dbpedia.org/resource/Lawrence_Michael_L...\n997          7     http://dbpedia.org/resource/Sean_Paul_Lockhart\n998          7       http://dbpedia.org/resource/Joel_David_Moore\n999          7            http://dbpedia.org/resource/Ryan_Hansen\n\n[1000 rows x 2 columns]",
      "text/html": "<div>\n<style scoped>\n    .dataframe tbody tr th:only-of-type {\n        vertical-align: middle;\n    }\n\n    .dataframe tbody tr th {\n        vertical-align: top;\n    }\n\n    .dataframe thead th {\n        text-align: right;\n    }\n</style>\n<table border=\"1\" class=\"dataframe\">\n  <thead>\n    <tr style=\"text-align: right;\">\n      <th></th>\n      <th>callret-0</th>\n      <th>actor</th>\n    </tr>\n  </thead>\n  <tbody>\n    <tr>\n      <th>0</th>\n      <td>49</td>\n      <td>http://dbpedia.org/resource/James_Franco</td>\n    </tr>\n    <tr>\n      <th>1</th>\n      <td>44</td>\n      <td>http://dbpedia.org/resource/Danny_Trejo</td>\n    </tr>\n    <tr>\n      <th>2</th>\n      <td>34</td>\n      <td>http://dbpedia.org/resource/Nicolas_Cage</td>\n    </tr>\n    <tr>\n      <th>3</th>\n      <td>31</td>\n      <td>http://dbpedia.org/resource/Danny_Glover</td>\n    </tr>\n    <tr>\n      <th>4</th>\n      <td>31</td>\n      <td>http://dbpedia.org/resource/Eric_Roberts</td>\n    </tr>\n    <tr>\n      <th>...</th>\n      <td>...</td>\n      <td>...</td>\n    </tr>\n    <tr>\n      <th>995</th>\n      <td>7</td>\n      <td>http://dbpedia.org/resource/Cody_Horn</td>\n    </tr>\n    <tr>\n      <th>996</th>\n      <td>7</td>\n      <td>http://dbpedia.org/resource/Lawrence_Michael_L...</td>\n    </tr>\n    <tr>\n      <th>997</th>\n      <td>7</td>\n      <td>http://dbpedia.org/resource/Sean_Paul_Lockhart</td>\n    </tr>\n    <tr>\n      <th>998</th>\n      <td>7</td>\n      <td>http://dbpedia.org/resource/Joel_David_Moore</td>\n    </tr>\n    <tr>\n      <th>999</th>\n      <td>7</td>\n      <td>http://dbpedia.org/resource/Ryan_Hansen</td>\n    </tr>\n  </tbody>\n</table>\n<p>1000 rows × 2 columns</p>\n</div>"
     },
     "execution_count": 54,
     "metadata": {},
     "output_type": "execute_result"
    }
   ],
   "source": [
    "sparql.setQuery(\"\"\"\n",
    "    SELECT DISTINCT COUNT(?actor) ?actor\n",
    "    WHERE {?film dct:subject dbc:2010s_American_films . ?film dbo:starring ?actor } \n",
    "    ORDER BY DESC(COUNT(?actor))\n",
    "    LIMIT 1000\n",
    "\"\"\")\n",
    "\n",
    "result = sparql.query().convert().decode(\"utf-8\") \n",
    "df = pd.read_csv(StringIO(result), sep=\",\")\n",
    "df"
   ]
  },
  {
   "cell_type": "markdown",
   "metadata": {},
   "source": [
    "**Part 1**: Adapt the SPARQL query above to count per film how many actors it has. This requires a minimal change to the query.   "
   ]
  },
  {
   "cell_type": "code",
   "execution_count": 55,
   "metadata": {},
   "outputs": [
    {
     "data": {
      "text/plain": "     callret-0                                               film\n0           36   http://dbpedia.org/resource/Holidays_(2016_film)\n1           22               http://dbpedia.org/resource/Movie_43\n2           21    http://dbpedia.org/resource/Isle_of_Dogs_(film)\n3           21             http://dbpedia.org/resource/I_Am_Comic\n4           20   http://dbpedia.org/resource/Muscle_Shoals_(film)\n..         ...                                                ...\n995          7  http://dbpedia.org/resource/Motherless_Brookly...\n996          7        http://dbpedia.org/resource/The_Last_Rescue\n997          7  http://dbpedia.org/resource/The_Pretenders_(20...\n998          7           http://dbpedia.org/resource/The_Thinning\n999          7        http://dbpedia.org/resource/The_Ward_(film)\n\n[1000 rows x 2 columns]",
      "text/html": "<div>\n<style scoped>\n    .dataframe tbody tr th:only-of-type {\n        vertical-align: middle;\n    }\n\n    .dataframe tbody tr th {\n        vertical-align: top;\n    }\n\n    .dataframe thead th {\n        text-align: right;\n    }\n</style>\n<table border=\"1\" class=\"dataframe\">\n  <thead>\n    <tr style=\"text-align: right;\">\n      <th></th>\n      <th>callret-0</th>\n      <th>film</th>\n    </tr>\n  </thead>\n  <tbody>\n    <tr>\n      <th>0</th>\n      <td>36</td>\n      <td>http://dbpedia.org/resource/Holidays_(2016_film)</td>\n    </tr>\n    <tr>\n      <th>1</th>\n      <td>22</td>\n      <td>http://dbpedia.org/resource/Movie_43</td>\n    </tr>\n    <tr>\n      <th>2</th>\n      <td>21</td>\n      <td>http://dbpedia.org/resource/Isle_of_Dogs_(film)</td>\n    </tr>\n    <tr>\n      <th>3</th>\n      <td>21</td>\n      <td>http://dbpedia.org/resource/I_Am_Comic</td>\n    </tr>\n    <tr>\n      <th>4</th>\n      <td>20</td>\n      <td>http://dbpedia.org/resource/Muscle_Shoals_(film)</td>\n    </tr>\n    <tr>\n      <th>...</th>\n      <td>...</td>\n      <td>...</td>\n    </tr>\n    <tr>\n      <th>995</th>\n      <td>7</td>\n      <td>http://dbpedia.org/resource/Motherless_Brookly...</td>\n    </tr>\n    <tr>\n      <th>996</th>\n      <td>7</td>\n      <td>http://dbpedia.org/resource/The_Last_Rescue</td>\n    </tr>\n    <tr>\n      <th>997</th>\n      <td>7</td>\n      <td>http://dbpedia.org/resource/The_Pretenders_(20...</td>\n    </tr>\n    <tr>\n      <th>998</th>\n      <td>7</td>\n      <td>http://dbpedia.org/resource/The_Thinning</td>\n    </tr>\n    <tr>\n      <th>999</th>\n      <td>7</td>\n      <td>http://dbpedia.org/resource/The_Ward_(film)</td>\n    </tr>\n  </tbody>\n</table>\n<p>1000 rows × 2 columns</p>\n</div>"
     },
     "execution_count": 55,
     "metadata": {},
     "output_type": "execute_result"
    }
   ],
   "source": [
    "#Changing the query to count the number of actors per film\n",
    "sparql.setQuery(\"\"\"\n",
    "    SELECT DISTINCT COUNT(?actor) ?film\n",
    "    WHERE {?film dct:subject dbc:2010s_American_films . ?film dbo:starring ?actor }\n",
    "    ORDER BY DESC(COUNT(?actor))\n",
    "    LIMIT 1000\n",
    "\"\"\")\n",
    "\n",
    "result = sparql.query().convert().decode(\"utf-8\") \n",
    "df = pd.read_csv(StringIO(result), sep=\",\")\n",
    "df"
   ]
  },
  {
   "cell_type": "markdown",
   "metadata": {},
   "source": [
    "# 3. Six Degrees of Kevin Bacon\n",
    "\n",
    "There is a game related to the notion of [Six Degrees of Separation](http://en.wikipedia.org/wiki/Six_degrees_of_separation). This involves the network of actors who have played in a film together with Kevin Bacon, and actors who have played with those actors, etc. The goal is to figure out the shortest path, between actors who have co-starred in a film, between any Hollywood actor and the actor Kevin Bacon. One of the research aspects is whether the network of actors in Hollywood form a so-called [Small World](http://en.wikipedia.org/wiki/Small-world_experiment) network.\n",
    "\n",
    "**Part 2** (some questions in the steps below)\n",
    "\n",
    "Steps:\n",
    "\n",
    "1. Let's first query:"
   ]
  },
  {
   "cell_type": "code",
   "execution_count": 56,
   "metadata": {},
   "outputs": [
    {
     "data": {
      "text/plain": "                                                 film\n0            http://dbpedia.org/resource/Queens_Logic\n1      http://dbpedia.org/resource/Quicksilver_(film)\n2   http://dbpedia.org/resource/Murder_in_the_Firs...\n3             http://dbpedia.org/resource/Beauty_Shop\n4   http://dbpedia.org/resource/Beverly_Hills_Cop:...\n..                                                ...\n64               http://dbpedia.org/resource/R.I.P.D.\n65           http://dbpedia.org/resource/Rails_&_Ties\n66    http://dbpedia.org/resource/She's_Having_a_Baby\n67     http://dbpedia.org/resource/X-Men:_First_Class\n68   http://dbpedia.org/resource/You_Should_Have_Left\n\n[69 rows x 1 columns]",
      "text/html": "<div>\n<style scoped>\n    .dataframe tbody tr th:only-of-type {\n        vertical-align: middle;\n    }\n\n    .dataframe tbody tr th {\n        vertical-align: top;\n    }\n\n    .dataframe thead th {\n        text-align: right;\n    }\n</style>\n<table border=\"1\" class=\"dataframe\">\n  <thead>\n    <tr style=\"text-align: right;\">\n      <th></th>\n      <th>film</th>\n    </tr>\n  </thead>\n  <tbody>\n    <tr>\n      <th>0</th>\n      <td>http://dbpedia.org/resource/Queens_Logic</td>\n    </tr>\n    <tr>\n      <th>1</th>\n      <td>http://dbpedia.org/resource/Quicksilver_(film)</td>\n    </tr>\n    <tr>\n      <th>2</th>\n      <td>http://dbpedia.org/resource/Murder_in_the_Firs...</td>\n    </tr>\n    <tr>\n      <th>3</th>\n      <td>http://dbpedia.org/resource/Beauty_Shop</td>\n    </tr>\n    <tr>\n      <th>4</th>\n      <td>http://dbpedia.org/resource/Beverly_Hills_Cop:...</td>\n    </tr>\n    <tr>\n      <th>...</th>\n      <td>...</td>\n    </tr>\n    <tr>\n      <th>64</th>\n      <td>http://dbpedia.org/resource/R.I.P.D.</td>\n    </tr>\n    <tr>\n      <th>65</th>\n      <td>http://dbpedia.org/resource/Rails_&amp;_Ties</td>\n    </tr>\n    <tr>\n      <th>66</th>\n      <td>http://dbpedia.org/resource/She's_Having_a_Baby</td>\n    </tr>\n    <tr>\n      <th>67</th>\n      <td>http://dbpedia.org/resource/X-Men:_First_Class</td>\n    </tr>\n    <tr>\n      <th>68</th>\n      <td>http://dbpedia.org/resource/You_Should_Have_Left</td>\n    </tr>\n  </tbody>\n</table>\n<p>69 rows × 1 columns</p>\n</div>"
     },
     "execution_count": 56,
     "metadata": {},
     "output_type": "execute_result"
    }
   ],
   "source": [
    "sparql.setQuery(\"\"\"\n",
    "    SELECT ?film\n",
    "    WHERE {?film dbo:starring dbr:Kevin_Bacon}\n",
    "\"\"\")\n",
    "\n",
    "result = sparql.query().convert().decode(\"utf-8\") \n",
    "df = pd.read_csv(StringIO(result), sep=\",\")\n",
    "df"
   ]
  },
  {
   "cell_type": "markdown",
   "metadata": {},
   "source": [
    "2. How many films are in the list? We can count using a COUNT statement:"
   ]
  },
  {
   "cell_type": "code",
   "execution_count": 57,
   "metadata": {},
   "outputs": [
    {
     "data": {
      "text/plain": "   callret-0\n0         69",
      "text/html": "<div>\n<style scoped>\n    .dataframe tbody tr th:only-of-type {\n        vertical-align: middle;\n    }\n\n    .dataframe tbody tr th {\n        vertical-align: top;\n    }\n\n    .dataframe thead th {\n        text-align: right;\n    }\n</style>\n<table border=\"1\" class=\"dataframe\">\n  <thead>\n    <tr style=\"text-align: right;\">\n      <th></th>\n      <th>callret-0</th>\n    </tr>\n  </thead>\n  <tbody>\n    <tr>\n      <th>0</th>\n      <td>69</td>\n    </tr>\n  </tbody>\n</table>\n</div>"
     },
     "execution_count": 57,
     "metadata": {},
     "output_type": "execute_result"
    }
   ],
   "source": [
    "sparql.setQuery(\"\"\"\n",
    "    SELECT COUNT(?film)\n",
    "    WHERE {?film dbo:starring dbr:Kevin_Bacon}\n",
    "\"\"\")\n",
    "\n",
    "result = sparql.query().convert().decode(\"utf-8\") \n",
    "df = pd.read_csv(StringIO(result), sep=\",\")\n",
    "df"
   ]
  },
  {
   "cell_type": "markdown",
   "metadata": {},
   "source": [
    "3. Is this list complete? Compare this number with, for instance, the number of films listed on Kevin Bacon's IMDB page."
   ]
  },
  {
   "cell_type": "code",
   "execution_count": 58,
   "outputs": [
    {
     "name": "stdout",
     "output_type": "stream",
     "text": [
      "0\n"
     ]
    }
   ],
   "source": [
    "#Importing the BeautifulSoup library for HTML Parsing\n",
    "import requests\n",
    "from bs4 import BeautifulSoup\n",
    "#Setting the brower user agent to avoid 403 errors\n",
    "headers = {'User-Agent': 'Mozilla/5.0 (Macintosh; Intel Mac OS X 10_10_1) AppleWebKit/537.36 (KHTML, like Gecko) Chrome/39.0.2171.95 Safari/537.36'}\n",
    "#Getting the movies from Kevin Bacon's IMDB page\n",
    "url = \"https://www.imdb.com/name/nm0000102/\"\n",
    "html = requests.get(url).content\n",
    "soup = BeautifulSoup(html, 'html.parser')\n",
    "movies = soup.find_all(\"div\", {\"class\": \"filmo-row\"})\n",
    "print(len(movies))"
   ],
   "metadata": {
    "collapsed": false
   }
  },
  {
   "cell_type": "markdown",
   "metadata": {},
   "source": [
    "**(Your answer here)**"
   ]
  },
  {
   "cell_type": "markdown",
   "metadata": {},
   "source": [
    "4. To see the power of this form of searching, let's gradually make this into a more complex query. Let's ask for the list of actors co-starring with Kevin Bacon. You can add a second RDF-like condition to the query, separated from the first by a dot:"
   ]
  },
  {
   "cell_type": "code",
   "execution_count": 59,
   "metadata": {},
   "outputs": [
    {
     "data": {
      "text/plain": "                                              film  actor\n0  http://dbpedia.org/resource/Space_Oddity_(film)    NaN",
      "text/html": "<div>\n<style scoped>\n    .dataframe tbody tr th:only-of-type {\n        vertical-align: middle;\n    }\n\n    .dataframe tbody tr th {\n        vertical-align: top;\n    }\n\n    .dataframe thead th {\n        text-align: right;\n    }\n</style>\n<table border=\"1\" class=\"dataframe\">\n  <thead>\n    <tr style=\"text-align: right;\">\n      <th></th>\n      <th>film</th>\n      <th>actor</th>\n    </tr>\n  </thead>\n  <tbody>\n    <tr>\n      <th>0</th>\n      <td>http://dbpedia.org/resource/Space_Oddity_(film)</td>\n      <td>NaN</td>\n    </tr>\n  </tbody>\n</table>\n</div>"
     },
     "execution_count": 59,
     "metadata": {},
     "output_type": "execute_result"
    }
   ],
   "source": [
    "sparql.setQuery(\"\"\"\n",
    "    SELECT ?film ?actor\n",
    "    WHERE { ?film dbo:starring dbr:Kevin_Bacon . ?film dbo:starring dbr:Madeline_Brewer}\n",
    "\"\"\")\n",
    "\n",
    "result = sparql.query().convert().decode(\"utf-8\") \n",
    "df = pd.read_csv(StringIO(result), sep=\",\")\n",
    "df"
   ]
  },
  {
   "cell_type": "markdown",
   "source": [
    "## We have added Madeline Brewer to the query as she has acted with Kevin Bacon in the movie \"Space Oddity\" (2022)\n",
    "https://www.imdb.com/title/tt6317762/fullcredits?ref_=tt_ov_st_sm\n",
    "### We can see that the query returns the movie \"Space Oddity\" (2022) and the actor Madeline Brewer"
   ],
   "metadata": {
    "collapsed": false
   }
  },
  {
   "cell_type": "markdown",
   "metadata": {},
   "source": [
    "You should now get a table with films that Kevin Bacon played in, and the actors who played with him in those films. This list also includes Kevin Bacon in each of those films.\n",
    "\n",
    "5. To remove Kevin Bacon himself from the list of co-actors, you can use a Regular Expression (as discussed in [Coding the Humanities](https://github.com/bloemj/2023-coding-the-humanities/blob/main/notebooks/2_Text.ipynb)) to remove any actor containing the name `Kevin Bacon`, like this:"
   ]
  },
  {
   "cell_type": "code",
   "execution_count": 60,
   "metadata": {},
   "outputs": [
    {
     "data": {
      "text/plain": "                                                 film   \n0            http://dbpedia.org/resource/Queens_Logic  \\\n1            http://dbpedia.org/resource/Queens_Logic   \n2            http://dbpedia.org/resource/Queens_Logic   \n3            http://dbpedia.org/resource/Queens_Logic   \n4            http://dbpedia.org/resource/Queens_Logic   \n..                                                ...   \n323    http://dbpedia.org/resource/X-Men:_First_Class   \n324    http://dbpedia.org/resource/X-Men:_First_Class   \n325    http://dbpedia.org/resource/X-Men:_First_Class   \n326    http://dbpedia.org/resource/X-Men:_First_Class   \n327  http://dbpedia.org/resource/You_Should_Have_Left   \n\n                                              actor  \n0      http://dbpedia.org/resource/Linda_Fiorentino  \n1             http://dbpedia.org/resource/Tom_Waits  \n2       http://dbpedia.org/resource/Tony_Spiridakis  \n3      http://dbpedia.org/resource/Jamie_Lee_Curtis  \n4            http://dbpedia.org/resource/Chloe_Webb  \n..                                              ...  \n323       http://dbpedia.org/resource/January_Jones  \n324   http://dbpedia.org/resource/Jennifer_Lawrence  \n325  http://dbpedia.org/resource/Michael_Fassbender  \n326        http://dbpedia.org/resource/Oliver_Platt  \n327     http://dbpedia.org/resource/Amanda_Seyfried  \n\n[328 rows x 2 columns]",
      "text/html": "<div>\n<style scoped>\n    .dataframe tbody tr th:only-of-type {\n        vertical-align: middle;\n    }\n\n    .dataframe tbody tr th {\n        vertical-align: top;\n    }\n\n    .dataframe thead th {\n        text-align: right;\n    }\n</style>\n<table border=\"1\" class=\"dataframe\">\n  <thead>\n    <tr style=\"text-align: right;\">\n      <th></th>\n      <th>film</th>\n      <th>actor</th>\n    </tr>\n  </thead>\n  <tbody>\n    <tr>\n      <th>0</th>\n      <td>http://dbpedia.org/resource/Queens_Logic</td>\n      <td>http://dbpedia.org/resource/Linda_Fiorentino</td>\n    </tr>\n    <tr>\n      <th>1</th>\n      <td>http://dbpedia.org/resource/Queens_Logic</td>\n      <td>http://dbpedia.org/resource/Tom_Waits</td>\n    </tr>\n    <tr>\n      <th>2</th>\n      <td>http://dbpedia.org/resource/Queens_Logic</td>\n      <td>http://dbpedia.org/resource/Tony_Spiridakis</td>\n    </tr>\n    <tr>\n      <th>3</th>\n      <td>http://dbpedia.org/resource/Queens_Logic</td>\n      <td>http://dbpedia.org/resource/Jamie_Lee_Curtis</td>\n    </tr>\n    <tr>\n      <th>4</th>\n      <td>http://dbpedia.org/resource/Queens_Logic</td>\n      <td>http://dbpedia.org/resource/Chloe_Webb</td>\n    </tr>\n    <tr>\n      <th>...</th>\n      <td>...</td>\n      <td>...</td>\n    </tr>\n    <tr>\n      <th>323</th>\n      <td>http://dbpedia.org/resource/X-Men:_First_Class</td>\n      <td>http://dbpedia.org/resource/January_Jones</td>\n    </tr>\n    <tr>\n      <th>324</th>\n      <td>http://dbpedia.org/resource/X-Men:_First_Class</td>\n      <td>http://dbpedia.org/resource/Jennifer_Lawrence</td>\n    </tr>\n    <tr>\n      <th>325</th>\n      <td>http://dbpedia.org/resource/X-Men:_First_Class</td>\n      <td>http://dbpedia.org/resource/Michael_Fassbender</td>\n    </tr>\n    <tr>\n      <th>326</th>\n      <td>http://dbpedia.org/resource/X-Men:_First_Class</td>\n      <td>http://dbpedia.org/resource/Oliver_Platt</td>\n    </tr>\n    <tr>\n      <th>327</th>\n      <td>http://dbpedia.org/resource/You_Should_Have_Left</td>\n      <td>http://dbpedia.org/resource/Amanda_Seyfried</td>\n    </tr>\n  </tbody>\n</table>\n<p>328 rows × 2 columns</p>\n</div>"
     },
     "execution_count": 60,
     "metadata": {},
     "output_type": "execute_result"
    }
   ],
   "source": [
    "sparql.setQuery(\"\"\"\n",
    "    SELECT ?film ?actor\n",
    "    WHERE { ?film dbo:starring dbr:Kevin_Bacon . ?film dbo:starring ?actor .\n",
    "            FILTER (!regex(?actor, \"Kevin_Bacon\"))} \n",
    "\"\"\")\n",
    "\n",
    "result = sparql.query().convert().decode(\"utf-8\") \n",
    "df = pd.read_csv(StringIO(result), sep=\",\")\n",
    "df"
   ]
  },
  {
   "cell_type": "markdown",
   "metadata": {},
   "source": [
    "Or even better, using the semantic entity name directly:"
   ]
  },
  {
   "cell_type": "code",
   "execution_count": 61,
   "metadata": {},
   "outputs": [
    {
     "data": {
      "text/plain": "                                                 film   \n0            http://dbpedia.org/resource/Queens_Logic  \\\n1            http://dbpedia.org/resource/Queens_Logic   \n2            http://dbpedia.org/resource/Queens_Logic   \n3            http://dbpedia.org/resource/Queens_Logic   \n4            http://dbpedia.org/resource/Queens_Logic   \n..                                                ...   \n323    http://dbpedia.org/resource/X-Men:_First_Class   \n324    http://dbpedia.org/resource/X-Men:_First_Class   \n325    http://dbpedia.org/resource/X-Men:_First_Class   \n326    http://dbpedia.org/resource/X-Men:_First_Class   \n327  http://dbpedia.org/resource/You_Should_Have_Left   \n\n                                              actor  \n0      http://dbpedia.org/resource/Linda_Fiorentino  \n1             http://dbpedia.org/resource/Tom_Waits  \n2       http://dbpedia.org/resource/Tony_Spiridakis  \n3      http://dbpedia.org/resource/Jamie_Lee_Curtis  \n4            http://dbpedia.org/resource/Chloe_Webb  \n..                                              ...  \n323       http://dbpedia.org/resource/January_Jones  \n324   http://dbpedia.org/resource/Jennifer_Lawrence  \n325  http://dbpedia.org/resource/Michael_Fassbender  \n326        http://dbpedia.org/resource/Oliver_Platt  \n327     http://dbpedia.org/resource/Amanda_Seyfried  \n\n[328 rows x 2 columns]",
      "text/html": "<div>\n<style scoped>\n    .dataframe tbody tr th:only-of-type {\n        vertical-align: middle;\n    }\n\n    .dataframe tbody tr th {\n        vertical-align: top;\n    }\n\n    .dataframe thead th {\n        text-align: right;\n    }\n</style>\n<table border=\"1\" class=\"dataframe\">\n  <thead>\n    <tr style=\"text-align: right;\">\n      <th></th>\n      <th>film</th>\n      <th>actor</th>\n    </tr>\n  </thead>\n  <tbody>\n    <tr>\n      <th>0</th>\n      <td>http://dbpedia.org/resource/Queens_Logic</td>\n      <td>http://dbpedia.org/resource/Linda_Fiorentino</td>\n    </tr>\n    <tr>\n      <th>1</th>\n      <td>http://dbpedia.org/resource/Queens_Logic</td>\n      <td>http://dbpedia.org/resource/Tom_Waits</td>\n    </tr>\n    <tr>\n      <th>2</th>\n      <td>http://dbpedia.org/resource/Queens_Logic</td>\n      <td>http://dbpedia.org/resource/Tony_Spiridakis</td>\n    </tr>\n    <tr>\n      <th>3</th>\n      <td>http://dbpedia.org/resource/Queens_Logic</td>\n      <td>http://dbpedia.org/resource/Jamie_Lee_Curtis</td>\n    </tr>\n    <tr>\n      <th>4</th>\n      <td>http://dbpedia.org/resource/Queens_Logic</td>\n      <td>http://dbpedia.org/resource/Chloe_Webb</td>\n    </tr>\n    <tr>\n      <th>...</th>\n      <td>...</td>\n      <td>...</td>\n    </tr>\n    <tr>\n      <th>323</th>\n      <td>http://dbpedia.org/resource/X-Men:_First_Class</td>\n      <td>http://dbpedia.org/resource/January_Jones</td>\n    </tr>\n    <tr>\n      <th>324</th>\n      <td>http://dbpedia.org/resource/X-Men:_First_Class</td>\n      <td>http://dbpedia.org/resource/Jennifer_Lawrence</td>\n    </tr>\n    <tr>\n      <th>325</th>\n      <td>http://dbpedia.org/resource/X-Men:_First_Class</td>\n      <td>http://dbpedia.org/resource/Michael_Fassbender</td>\n    </tr>\n    <tr>\n      <th>326</th>\n      <td>http://dbpedia.org/resource/X-Men:_First_Class</td>\n      <td>http://dbpedia.org/resource/Oliver_Platt</td>\n    </tr>\n    <tr>\n      <th>327</th>\n      <td>http://dbpedia.org/resource/You_Should_Have_Left</td>\n      <td>http://dbpedia.org/resource/Amanda_Seyfried</td>\n    </tr>\n  </tbody>\n</table>\n<p>328 rows × 2 columns</p>\n</div>"
     },
     "execution_count": 61,
     "metadata": {},
     "output_type": "execute_result"
    }
   ],
   "source": [
    "sparql.setQuery(\"\"\"\n",
    "    SELECT ?film ?actor\n",
    "    WHERE { ?film dbo:starring dbr:Kevin_Bacon . ?film dbo:starring ?actor .\n",
    "            FILTER ( ?actor != dbr:Kevin_Bacon )}\n",
    "\"\"\")\n",
    "\n",
    "result = sparql.query().convert().decode(\"utf-8\") \n",
    "df = pd.read_csv(StringIO(result), sep=\",\")\n",
    "df"
   ]
  },
  {
   "cell_type": "markdown",
   "metadata": {},
   "source": [
    "6. To get a list of only the actors, remove `?film` from the selection. Use `SELECT DISTINCT` if needed to avoid duplicates.  Now can you get a count of the number of actors in the list?"
   ]
  },
  {
   "cell_type": "code",
   "execution_count": 62,
   "metadata": {},
   "outputs": [
    {
     "data": {
      "text/plain": "                                              actor\n0      http://dbpedia.org/resource/Linda_Fiorentino\n1             http://dbpedia.org/resource/Tom_Waits\n2       http://dbpedia.org/resource/Tony_Spiridakis\n3      http://dbpedia.org/resource/Jamie_Lee_Curtis\n4            http://dbpedia.org/resource/Chloe_Webb\n..                                              ...\n292        http://dbpedia.org/resource/James_McAvoy\n293       http://dbpedia.org/resource/January_Jones\n294   http://dbpedia.org/resource/Jennifer_Lawrence\n295  http://dbpedia.org/resource/Michael_Fassbender\n296     http://dbpedia.org/resource/Amanda_Seyfried\n\n[297 rows x 1 columns]",
      "text/html": "<div>\n<style scoped>\n    .dataframe tbody tr th:only-of-type {\n        vertical-align: middle;\n    }\n\n    .dataframe tbody tr th {\n        vertical-align: top;\n    }\n\n    .dataframe thead th {\n        text-align: right;\n    }\n</style>\n<table border=\"1\" class=\"dataframe\">\n  <thead>\n    <tr style=\"text-align: right;\">\n      <th></th>\n      <th>actor</th>\n    </tr>\n  </thead>\n  <tbody>\n    <tr>\n      <th>0</th>\n      <td>http://dbpedia.org/resource/Linda_Fiorentino</td>\n    </tr>\n    <tr>\n      <th>1</th>\n      <td>http://dbpedia.org/resource/Tom_Waits</td>\n    </tr>\n    <tr>\n      <th>2</th>\n      <td>http://dbpedia.org/resource/Tony_Spiridakis</td>\n    </tr>\n    <tr>\n      <th>3</th>\n      <td>http://dbpedia.org/resource/Jamie_Lee_Curtis</td>\n    </tr>\n    <tr>\n      <th>4</th>\n      <td>http://dbpedia.org/resource/Chloe_Webb</td>\n    </tr>\n    <tr>\n      <th>...</th>\n      <td>...</td>\n    </tr>\n    <tr>\n      <th>292</th>\n      <td>http://dbpedia.org/resource/James_McAvoy</td>\n    </tr>\n    <tr>\n      <th>293</th>\n      <td>http://dbpedia.org/resource/January_Jones</td>\n    </tr>\n    <tr>\n      <th>294</th>\n      <td>http://dbpedia.org/resource/Jennifer_Lawrence</td>\n    </tr>\n    <tr>\n      <th>295</th>\n      <td>http://dbpedia.org/resource/Michael_Fassbender</td>\n    </tr>\n    <tr>\n      <th>296</th>\n      <td>http://dbpedia.org/resource/Amanda_Seyfried</td>\n    </tr>\n  </tbody>\n</table>\n<p>297 rows × 1 columns</p>\n</div>"
     },
     "execution_count": 62,
     "metadata": {},
     "output_type": "execute_result"
    }
   ],
   "source": [
    "sparql.setQuery(\"\"\"\n",
    "    SELECT DISTINCT ?actor\n",
    "    WHERE { ?film dbo:starring dbr:Kevin_Bacon . ?film dbo:starring ?actor .\n",
    "            FILTER ( ?actor != dbr:Kevin_Bacon )}\n",
    "\"\"\")\n",
    "result = sparql.query().convert().decode(\"utf-8\")\n",
    "df = pd.read_csv(StringIO(result), sep=\",\")\n",
    "df"
   ]
  },
  {
   "cell_type": "markdown",
   "metadata": {},
   "source": [
    "7. We'll expand the SPARQL query to get actors who co-starred with actors who co-starred with Kevin Bacon, i.e. actors who are two steps away from Kevin Bacon. First get all films that the co-stars of Kevin Bacon played in:"
   ]
  },
  {
   "cell_type": "code",
   "execution_count": 63,
   "metadata": {},
   "outputs": [
    {
     "data": {
      "text/plain": "                                                  film1   \n0     http://dbpedia.org/resource/Telling_Lies_in_Am...  \\\n1     http://dbpedia.org/resource/Telling_Lies_in_Am...   \n2     http://dbpedia.org/resource/Telling_Lies_in_Am...   \n3     http://dbpedia.org/resource/Telling_Lies_in_Am...   \n4     http://dbpedia.org/resource/Telling_Lies_in_Am...   \n...                                                 ...   \n9995             http://dbpedia.org/resource/JFK_(film)   \n9996             http://dbpedia.org/resource/JFK_(film)   \n9997             http://dbpedia.org/resource/JFK_(film)   \n9998             http://dbpedia.org/resource/JFK_(film)   \n9999             http://dbpedia.org/resource/JFK_(film)   \n\n                                             actor1   \n0     http://dbpedia.org/resource/Calista_Flockhart  \\\n1     http://dbpedia.org/resource/Calista_Flockhart   \n2     http://dbpedia.org/resource/Calista_Flockhart   \n3     http://dbpedia.org/resource/Calista_Flockhart   \n4     http://dbpedia.org/resource/Calista_Flockhart   \n...                                             ...   \n9995     http://dbpedia.org/resource/Michael_Rooker   \n9996     http://dbpedia.org/resource/Michael_Rooker   \n9997     http://dbpedia.org/resource/Michael_Rooker   \n9998     http://dbpedia.org/resource/Michael_Rooker   \n9999     http://dbpedia.org/resource/Michael_Rooker   \n\n                                                  film2  \n0             http://dbpedia.org/resource/The_Last_Shot  \n1     http://dbpedia.org/resource/Things_You_Can_Tel...  \n2     http://dbpedia.org/resource/Brothers_&_Sisters...  \n3     http://dbpedia.org/resource/A_Midsummer_Night'...  \n4               http://dbpedia.org/resource/Ally_McBeal  \n...                                                 ...  \n9995       http://dbpedia.org/resource/Afterburn_(film)  \n9996  http://dbpedia.org/resource/DC_Showcase:_Jonah...  \n9997              http://dbpedia.org/resource/F9_(film)  \n9998  http://dbpedia.org/resource/Fantasy_Island_(film)  \n9999                 http://dbpedia.org/resource/Fast_X  \n\n[10000 rows x 3 columns]",
      "text/html": "<div>\n<style scoped>\n    .dataframe tbody tr th:only-of-type {\n        vertical-align: middle;\n    }\n\n    .dataframe tbody tr th {\n        vertical-align: top;\n    }\n\n    .dataframe thead th {\n        text-align: right;\n    }\n</style>\n<table border=\"1\" class=\"dataframe\">\n  <thead>\n    <tr style=\"text-align: right;\">\n      <th></th>\n      <th>film1</th>\n      <th>actor1</th>\n      <th>film2</th>\n    </tr>\n  </thead>\n  <tbody>\n    <tr>\n      <th>0</th>\n      <td>http://dbpedia.org/resource/Telling_Lies_in_Am...</td>\n      <td>http://dbpedia.org/resource/Calista_Flockhart</td>\n      <td>http://dbpedia.org/resource/The_Last_Shot</td>\n    </tr>\n    <tr>\n      <th>1</th>\n      <td>http://dbpedia.org/resource/Telling_Lies_in_Am...</td>\n      <td>http://dbpedia.org/resource/Calista_Flockhart</td>\n      <td>http://dbpedia.org/resource/Things_You_Can_Tel...</td>\n    </tr>\n    <tr>\n      <th>2</th>\n      <td>http://dbpedia.org/resource/Telling_Lies_in_Am...</td>\n      <td>http://dbpedia.org/resource/Calista_Flockhart</td>\n      <td>http://dbpedia.org/resource/Brothers_&amp;_Sisters...</td>\n    </tr>\n    <tr>\n      <th>3</th>\n      <td>http://dbpedia.org/resource/Telling_Lies_in_Am...</td>\n      <td>http://dbpedia.org/resource/Calista_Flockhart</td>\n      <td>http://dbpedia.org/resource/A_Midsummer_Night'...</td>\n    </tr>\n    <tr>\n      <th>4</th>\n      <td>http://dbpedia.org/resource/Telling_Lies_in_Am...</td>\n      <td>http://dbpedia.org/resource/Calista_Flockhart</td>\n      <td>http://dbpedia.org/resource/Ally_McBeal</td>\n    </tr>\n    <tr>\n      <th>...</th>\n      <td>...</td>\n      <td>...</td>\n      <td>...</td>\n    </tr>\n    <tr>\n      <th>9995</th>\n      <td>http://dbpedia.org/resource/JFK_(film)</td>\n      <td>http://dbpedia.org/resource/Michael_Rooker</td>\n      <td>http://dbpedia.org/resource/Afterburn_(film)</td>\n    </tr>\n    <tr>\n      <th>9996</th>\n      <td>http://dbpedia.org/resource/JFK_(film)</td>\n      <td>http://dbpedia.org/resource/Michael_Rooker</td>\n      <td>http://dbpedia.org/resource/DC_Showcase:_Jonah...</td>\n    </tr>\n    <tr>\n      <th>9997</th>\n      <td>http://dbpedia.org/resource/JFK_(film)</td>\n      <td>http://dbpedia.org/resource/Michael_Rooker</td>\n      <td>http://dbpedia.org/resource/F9_(film)</td>\n    </tr>\n    <tr>\n      <th>9998</th>\n      <td>http://dbpedia.org/resource/JFK_(film)</td>\n      <td>http://dbpedia.org/resource/Michael_Rooker</td>\n      <td>http://dbpedia.org/resource/Fantasy_Island_(film)</td>\n    </tr>\n    <tr>\n      <th>9999</th>\n      <td>http://dbpedia.org/resource/JFK_(film)</td>\n      <td>http://dbpedia.org/resource/Michael_Rooker</td>\n      <td>http://dbpedia.org/resource/Fast_X</td>\n    </tr>\n  </tbody>\n</table>\n<p>10000 rows × 3 columns</p>\n</div>"
     },
     "execution_count": 63,
     "metadata": {},
     "output_type": "execute_result"
    }
   ],
   "source": [
    "sparql.setQuery(\"\"\"\n",
    "    SELECT DISTINCT ?film1 ?actor1 ?film2 \n",
    "    WHERE { ?film1 dbo:starring dbr:Kevin_Bacon . ?film1 dbo:starring ?actor1 \n",
    "               . ?film2 dbo:starring ?actor1 .\n",
    "               FILTER ( ?actor1 != dbr:Kevin_Bacon )  }\n",
    "\"\"\")\n",
    "\n",
    "result = sparql.query().convert().decode(\"utf-8\") \n",
    "df = pd.read_csv(StringIO(result), sep=\",\")\n",
    "df"
   ]
  },
  {
   "cell_type": "markdown",
   "metadata": {},
   "source": [
    "8. Next we add the co-stars of the co-stars of Kevin Bacon as `?actor2`:"
   ]
  },
  {
   "cell_type": "code",
   "execution_count": 64,
   "metadata": {},
   "outputs": [
    {
     "data": {
      "text/plain": "                                                  film1   \n0     http://dbpedia.org/resource/Wild_Things_(film)...  \\\n1     http://dbpedia.org/resource/Wild_Things_(film)...   \n2     http://dbpedia.org/resource/Wild_Things_(film)...   \n3     http://dbpedia.org/resource/Wild_Things_(film)...   \n4     http://dbpedia.org/resource/Wild_Things_(film)...   \n...                                                 ...   \n9995         http://dbpedia.org/resource/A_Few_Good_Men   \n9996         http://dbpedia.org/resource/A_Few_Good_Men   \n9997         http://dbpedia.org/resource/A_Few_Good_Men   \n9998         http://dbpedia.org/resource/A_Few_Good_Men   \n9999         http://dbpedia.org/resource/A_Few_Good_Men   \n\n                                       actor1   \n0     http://dbpedia.org/resource/Bill_Murray  \\\n1     http://dbpedia.org/resource/Bill_Murray   \n2     http://dbpedia.org/resource/Bill_Murray   \n3     http://dbpedia.org/resource/Bill_Murray   \n4     http://dbpedia.org/resource/Bill_Murray   \n...                                       ...   \n9995   http://dbpedia.org/resource/Demi_Moore   \n9996   http://dbpedia.org/resource/Demi_Moore   \n9997   http://dbpedia.org/resource/Demi_Moore   \n9998   http://dbpedia.org/resource/Demi_Moore   \n9999   http://dbpedia.org/resource/Demi_Moore   \n\n                                                  film2   \n0                http://dbpedia.org/resource/Caddyshack  \\\n1                http://dbpedia.org/resource/Caddyshack   \n2                http://dbpedia.org/resource/Caddyshack   \n3                http://dbpedia.org/resource/Caddyshack   \n4                http://dbpedia.org/resource/Caddyshack   \n...                                                 ...   \n9995  http://dbpedia.org/resource/We're_No_Angels_(1...   \n9996  http://dbpedia.org/resource/We're_No_Angels_(1...   \n9997  http://dbpedia.org/resource/We're_No_Angels_(1...   \n9998  http://dbpedia.org/resource/We're_No_Angels_(1...   \n9999  http://dbpedia.org/resource/We're_No_Angels_(1...   \n\n                                              actor2  \n0     http://dbpedia.org/resource/Rodney_Dangerfield  \n1            http://dbpedia.org/resource/Bill_Murray  \n2             http://dbpedia.org/resource/Ted_Knight  \n3            http://dbpedia.org/resource/Chevy_Chase  \n4        http://dbpedia.org/resource/Michael_O'Keefe  \n...                                              ...  \n9995      http://dbpedia.org/resource/Robert_De_Niro  \n9996         http://dbpedia.org/resource/Bruno_Kirby  \n9997         http://dbpedia.org/resource/James_Russo  \n9998        http://dbpedia.org/resource/Ray_McAnally  \n9999           http://dbpedia.org/resource/Sean_Penn  \n\n[10000 rows x 4 columns]",
      "text/html": "<div>\n<style scoped>\n    .dataframe tbody tr th:only-of-type {\n        vertical-align: middle;\n    }\n\n    .dataframe tbody tr th {\n        vertical-align: top;\n    }\n\n    .dataframe thead th {\n        text-align: right;\n    }\n</style>\n<table border=\"1\" class=\"dataframe\">\n  <thead>\n    <tr style=\"text-align: right;\">\n      <th></th>\n      <th>film1</th>\n      <th>actor1</th>\n      <th>film2</th>\n      <th>actor2</th>\n    </tr>\n  </thead>\n  <tbody>\n    <tr>\n      <th>0</th>\n      <td>http://dbpedia.org/resource/Wild_Things_(film)...</td>\n      <td>http://dbpedia.org/resource/Bill_Murray</td>\n      <td>http://dbpedia.org/resource/Caddyshack</td>\n      <td>http://dbpedia.org/resource/Rodney_Dangerfield</td>\n    </tr>\n    <tr>\n      <th>1</th>\n      <td>http://dbpedia.org/resource/Wild_Things_(film)...</td>\n      <td>http://dbpedia.org/resource/Bill_Murray</td>\n      <td>http://dbpedia.org/resource/Caddyshack</td>\n      <td>http://dbpedia.org/resource/Bill_Murray</td>\n    </tr>\n    <tr>\n      <th>2</th>\n      <td>http://dbpedia.org/resource/Wild_Things_(film)...</td>\n      <td>http://dbpedia.org/resource/Bill_Murray</td>\n      <td>http://dbpedia.org/resource/Caddyshack</td>\n      <td>http://dbpedia.org/resource/Ted_Knight</td>\n    </tr>\n    <tr>\n      <th>3</th>\n      <td>http://dbpedia.org/resource/Wild_Things_(film)...</td>\n      <td>http://dbpedia.org/resource/Bill_Murray</td>\n      <td>http://dbpedia.org/resource/Caddyshack</td>\n      <td>http://dbpedia.org/resource/Chevy_Chase</td>\n    </tr>\n    <tr>\n      <th>4</th>\n      <td>http://dbpedia.org/resource/Wild_Things_(film)...</td>\n      <td>http://dbpedia.org/resource/Bill_Murray</td>\n      <td>http://dbpedia.org/resource/Caddyshack</td>\n      <td>http://dbpedia.org/resource/Michael_O'Keefe</td>\n    </tr>\n    <tr>\n      <th>...</th>\n      <td>...</td>\n      <td>...</td>\n      <td>...</td>\n      <td>...</td>\n    </tr>\n    <tr>\n      <th>9995</th>\n      <td>http://dbpedia.org/resource/A_Few_Good_Men</td>\n      <td>http://dbpedia.org/resource/Demi_Moore</td>\n      <td>http://dbpedia.org/resource/We're_No_Angels_(1...</td>\n      <td>http://dbpedia.org/resource/Robert_De_Niro</td>\n    </tr>\n    <tr>\n      <th>9996</th>\n      <td>http://dbpedia.org/resource/A_Few_Good_Men</td>\n      <td>http://dbpedia.org/resource/Demi_Moore</td>\n      <td>http://dbpedia.org/resource/We're_No_Angels_(1...</td>\n      <td>http://dbpedia.org/resource/Bruno_Kirby</td>\n    </tr>\n    <tr>\n      <th>9997</th>\n      <td>http://dbpedia.org/resource/A_Few_Good_Men</td>\n      <td>http://dbpedia.org/resource/Demi_Moore</td>\n      <td>http://dbpedia.org/resource/We're_No_Angels_(1...</td>\n      <td>http://dbpedia.org/resource/James_Russo</td>\n    </tr>\n    <tr>\n      <th>9998</th>\n      <td>http://dbpedia.org/resource/A_Few_Good_Men</td>\n      <td>http://dbpedia.org/resource/Demi_Moore</td>\n      <td>http://dbpedia.org/resource/We're_No_Angels_(1...</td>\n      <td>http://dbpedia.org/resource/Ray_McAnally</td>\n    </tr>\n    <tr>\n      <th>9999</th>\n      <td>http://dbpedia.org/resource/A_Few_Good_Men</td>\n      <td>http://dbpedia.org/resource/Demi_Moore</td>\n      <td>http://dbpedia.org/resource/We're_No_Angels_(1...</td>\n      <td>http://dbpedia.org/resource/Sean_Penn</td>\n    </tr>\n  </tbody>\n</table>\n<p>10000 rows × 4 columns</p>\n</div>"
     },
     "execution_count": 64,
     "metadata": {},
     "output_type": "execute_result"
    }
   ],
   "source": [
    "sparql.setQuery(\"\"\"\n",
    "    SELECT ?film1 ?actor1 ?film2 ?actor2 \n",
    "    WHERE { ?film1 dbo:starring dbr:Kevin_Bacon . ?film1 dbo:starring ?actor1 \n",
    "           . ?film2 dbo:starring ?actor1 . ?film2 dbo:starring ?actor2 .\n",
    "               FILTER (?actor1 != dbr:Kevin_Bacon && ?actor2 != dbr:Kevin_Bacon ) }\n",
    "\"\"\")\n",
    "\n",
    "result = sparql.query().convert().decode(\"utf-8\") \n",
    "df = pd.read_csv(StringIO(result), sep=\",\")\n",
    "df"
   ]
  },
  {
   "cell_type": "markdown",
   "metadata": {},
   "source": [
    "9. How many actors are within two steps of Kevin Bacon?  Are there no duplicates? Note the difference between `COUNT(DISTINCT ?film)` and `COUNT(?film)`."
   ]
  },
  {
   "cell_type": "code",
   "execution_count": 65,
   "metadata": {},
   "outputs": [
    {
     "data": {
      "text/plain": "   callret-0\n0      11962",
      "text/html": "<div>\n<style scoped>\n    .dataframe tbody tr th:only-of-type {\n        vertical-align: middle;\n    }\n\n    .dataframe tbody tr th {\n        vertical-align: top;\n    }\n\n    .dataframe thead th {\n        text-align: right;\n    }\n</style>\n<table border=\"1\" class=\"dataframe\">\n  <thead>\n    <tr style=\"text-align: right;\">\n      <th></th>\n      <th>callret-0</th>\n    </tr>\n  </thead>\n  <tbody>\n    <tr>\n      <th>0</th>\n      <td>11962</td>\n    </tr>\n  </tbody>\n</table>\n</div>"
     },
     "execution_count": 65,
     "metadata": {},
     "output_type": "execute_result"
    }
   ],
   "source": [
    "sparql.setQuery(\"\"\"\n",
    "    SELECT COUNT(DISTINCT ?actor2)\n",
    "    WHERE { ?film1 dbo:starring dbr:Kevin_Bacon . ?film1 dbo:starring ?actor1\n",
    "           . ?film2 dbo:starring ?actor1 . ?film2 dbo:starring ?actor2 .\n",
    "               FILTER (?actor1 != dbr:Kevin_Bacon && ?actor2 != dbr:Kevin_Bacon ) }\n",
    "\"\"\")\n",
    "result = sparql.query().convert().decode(\"utf-8\")\n",
    "df = pd.read_csv(StringIO(result), sep=\",\")\n",
    "df"
   ]
  },
  {
   "cell_type": "code",
   "execution_count": 66,
   "outputs": [
    {
     "data": {
      "text/plain": "   callret-0\n0      72987",
      "text/html": "<div>\n<style scoped>\n    .dataframe tbody tr th:only-of-type {\n        vertical-align: middle;\n    }\n\n    .dataframe tbody tr th {\n        vertical-align: top;\n    }\n\n    .dataframe thead th {\n        text-align: right;\n    }\n</style>\n<table border=\"1\" class=\"dataframe\">\n  <thead>\n    <tr style=\"text-align: right;\">\n      <th></th>\n      <th>callret-0</th>\n    </tr>\n  </thead>\n  <tbody>\n    <tr>\n      <th>0</th>\n      <td>72987</td>\n    </tr>\n  </tbody>\n</table>\n</div>"
     },
     "execution_count": 66,
     "metadata": {},
     "output_type": "execute_result"
    }
   ],
   "source": [
    "sparql.setQuery(\"\"\"\n",
    "    SELECT COUNT(?actor2)\n",
    "    WHERE { ?film1 dbo:starring dbr:Kevin_Bacon . ?film1 dbo:starring ?actor1\n",
    "           . ?film2 dbo:starring ?actor1 . ?film2 dbo:starring ?actor2 .\n",
    "               FILTER (?actor1 != dbr:Kevin_Bacon && ?actor2 != dbr:Kevin_Bacon ) }\n",
    "\"\"\")\n",
    "result = sparql.query().convert().decode(\"utf-8\")\n",
    "df = pd.read_csv(StringIO(result), sep=\",\")\n",
    "df"
   ],
   "metadata": {
    "collapsed": false
   }
  },
  {
   "cell_type": "markdown",
   "metadata": {},
   "source": [
    "The first query gives the number of distinct actors, the second query gives the number of co-actor pairs. This creates a huge difference, 11962 vs. 72987. This difference stems from the fact that some actors co-starred with Kevin Bacon in more than one film."
   ]
  },
  {
   "cell_type": "markdown",
   "metadata": {},
   "source": [
    "# 4. Wanderlust\n",
    "\n",
    "DBpedia is great to wander around---just like browsing through Wikipedia---but then with powerful aggregation tools at your finger tips.   Follow this walk, and make your own walks."
   ]
  },
  {
   "cell_type": "markdown",
   "metadata": {},
   "source": [
    "## Example Walk\n",
    "\n",
    "1. Starting is always hard, so let's start with Google \"dbpedia rembrandt\", as we did in the lecture.\n",
    "\n",
    "This gives you quite some info, and reveals Rembrandt is a dbpedia resource, hence `dbr:Rembrandt` (shorthand for http://dbpedia.org/resource/Rembrandt) is the unique ID inside dbpedia.\n",
    "\n",
    "2. Let's see what information there is with `dbr:Rembrandt`"
   ]
  },
  {
   "cell_type": "code",
   "execution_count": 67,
   "metadata": {},
   "outputs": [
    {
     "data": {
      "text/plain": "                                                  p   \n0   http://www.w3.org/1999/02/22-rdf-syntax-ns#type  \\\n1   http://www.w3.org/1999/02/22-rdf-syntax-ns#type   \n2   http://www.w3.org/1999/02/22-rdf-syntax-ns#type   \n3   http://www.w3.org/1999/02/22-rdf-syntax-ns#type   \n4   http://www.w3.org/1999/02/22-rdf-syntax-ns#type   \n5   http://www.w3.org/1999/02/22-rdf-syntax-ns#type   \n6   http://www.w3.org/1999/02/22-rdf-syntax-ns#type   \n7   http://www.w3.org/1999/02/22-rdf-syntax-ns#type   \n8   http://www.w3.org/1999/02/22-rdf-syntax-ns#type   \n9   http://www.w3.org/1999/02/22-rdf-syntax-ns#type   \n10  http://www.w3.org/1999/02/22-rdf-syntax-ns#type   \n11  http://www.w3.org/1999/02/22-rdf-syntax-ns#type   \n12  http://www.w3.org/1999/02/22-rdf-syntax-ns#type   \n13  http://www.w3.org/1999/02/22-rdf-syntax-ns#type   \n14  http://www.w3.org/1999/02/22-rdf-syntax-ns#type   \n15  http://www.w3.org/1999/02/22-rdf-syntax-ns#type   \n16  http://www.w3.org/1999/02/22-rdf-syntax-ns#type   \n17  http://www.w3.org/1999/02/22-rdf-syntax-ns#type   \n18  http://www.w3.org/1999/02/22-rdf-syntax-ns#type   \n19  http://www.w3.org/1999/02/22-rdf-syntax-ns#type   \n\n                                                    o  \n0                 http://www.w3.org/2002/07/owl#Thing  \n1                    http://xmlns.com/foaf/0.1/Person  \n2                  http://dbpedia.org/ontology/Person  \n3   http://www.ontologydesignpatterns.org/ont/dul/...  \n4               http://www.wikidata.org/entity/Q19088  \n5              http://www.wikidata.org/entity/Q215627  \n6              http://www.wikidata.org/entity/Q483501  \n7                   http://www.wikidata.org/entity/Q5  \n8                 http://www.wikidata.org/entity/Q729  \n9   http://dbpedia.org/class/yago/WikicatArtistsFr...  \n10  http://dbpedia.org/class/yago/WikicatBaroquePa...  \n11                 http://dbpedia.org/ontology/Animal  \n12              http://dbpedia.org/ontology/Eukaryote  \n13                http://dbpedia.org/ontology/Species  \n14                           http://schema.org/Person  \n15  http://dbpedia.org/class/yago/WikicatLeidenUni...  \n16  http://dbpedia.org/class/yago/WikicatPeopleFro...  \n17  http://dbpedia.org/class/yago/WikicatPeopleFro...  \n18     http://dbpedia.org/class/yago/Alumnus109786338  \n19      http://dbpedia.org/class/yago/Artist109812338  ",
      "text/html": "<div>\n<style scoped>\n    .dataframe tbody tr th:only-of-type {\n        vertical-align: middle;\n    }\n\n    .dataframe tbody tr th {\n        vertical-align: top;\n    }\n\n    .dataframe thead th {\n        text-align: right;\n    }\n</style>\n<table border=\"1\" class=\"dataframe\">\n  <thead>\n    <tr style=\"text-align: right;\">\n      <th></th>\n      <th>p</th>\n      <th>o</th>\n    </tr>\n  </thead>\n  <tbody>\n    <tr>\n      <th>0</th>\n      <td>http://www.w3.org/1999/02/22-rdf-syntax-ns#type</td>\n      <td>http://www.w3.org/2002/07/owl#Thing</td>\n    </tr>\n    <tr>\n      <th>1</th>\n      <td>http://www.w3.org/1999/02/22-rdf-syntax-ns#type</td>\n      <td>http://xmlns.com/foaf/0.1/Person</td>\n    </tr>\n    <tr>\n      <th>2</th>\n      <td>http://www.w3.org/1999/02/22-rdf-syntax-ns#type</td>\n      <td>http://dbpedia.org/ontology/Person</td>\n    </tr>\n    <tr>\n      <th>3</th>\n      <td>http://www.w3.org/1999/02/22-rdf-syntax-ns#type</td>\n      <td>http://www.ontologydesignpatterns.org/ont/dul/...</td>\n    </tr>\n    <tr>\n      <th>4</th>\n      <td>http://www.w3.org/1999/02/22-rdf-syntax-ns#type</td>\n      <td>http://www.wikidata.org/entity/Q19088</td>\n    </tr>\n    <tr>\n      <th>5</th>\n      <td>http://www.w3.org/1999/02/22-rdf-syntax-ns#type</td>\n      <td>http://www.wikidata.org/entity/Q215627</td>\n    </tr>\n    <tr>\n      <th>6</th>\n      <td>http://www.w3.org/1999/02/22-rdf-syntax-ns#type</td>\n      <td>http://www.wikidata.org/entity/Q483501</td>\n    </tr>\n    <tr>\n      <th>7</th>\n      <td>http://www.w3.org/1999/02/22-rdf-syntax-ns#type</td>\n      <td>http://www.wikidata.org/entity/Q5</td>\n    </tr>\n    <tr>\n      <th>8</th>\n      <td>http://www.w3.org/1999/02/22-rdf-syntax-ns#type</td>\n      <td>http://www.wikidata.org/entity/Q729</td>\n    </tr>\n    <tr>\n      <th>9</th>\n      <td>http://www.w3.org/1999/02/22-rdf-syntax-ns#type</td>\n      <td>http://dbpedia.org/class/yago/WikicatArtistsFr...</td>\n    </tr>\n    <tr>\n      <th>10</th>\n      <td>http://www.w3.org/1999/02/22-rdf-syntax-ns#type</td>\n      <td>http://dbpedia.org/class/yago/WikicatBaroquePa...</td>\n    </tr>\n    <tr>\n      <th>11</th>\n      <td>http://www.w3.org/1999/02/22-rdf-syntax-ns#type</td>\n      <td>http://dbpedia.org/ontology/Animal</td>\n    </tr>\n    <tr>\n      <th>12</th>\n      <td>http://www.w3.org/1999/02/22-rdf-syntax-ns#type</td>\n      <td>http://dbpedia.org/ontology/Eukaryote</td>\n    </tr>\n    <tr>\n      <th>13</th>\n      <td>http://www.w3.org/1999/02/22-rdf-syntax-ns#type</td>\n      <td>http://dbpedia.org/ontology/Species</td>\n    </tr>\n    <tr>\n      <th>14</th>\n      <td>http://www.w3.org/1999/02/22-rdf-syntax-ns#type</td>\n      <td>http://schema.org/Person</td>\n    </tr>\n    <tr>\n      <th>15</th>\n      <td>http://www.w3.org/1999/02/22-rdf-syntax-ns#type</td>\n      <td>http://dbpedia.org/class/yago/WikicatLeidenUni...</td>\n    </tr>\n    <tr>\n      <th>16</th>\n      <td>http://www.w3.org/1999/02/22-rdf-syntax-ns#type</td>\n      <td>http://dbpedia.org/class/yago/WikicatPeopleFro...</td>\n    </tr>\n    <tr>\n      <th>17</th>\n      <td>http://www.w3.org/1999/02/22-rdf-syntax-ns#type</td>\n      <td>http://dbpedia.org/class/yago/WikicatPeopleFro...</td>\n    </tr>\n    <tr>\n      <th>18</th>\n      <td>http://www.w3.org/1999/02/22-rdf-syntax-ns#type</td>\n      <td>http://dbpedia.org/class/yago/Alumnus109786338</td>\n    </tr>\n    <tr>\n      <th>19</th>\n      <td>http://www.w3.org/1999/02/22-rdf-syntax-ns#type</td>\n      <td>http://dbpedia.org/class/yago/Artist109812338</td>\n    </tr>\n  </tbody>\n</table>\n</div>"
     },
     "execution_count": 67,
     "metadata": {},
     "output_type": "execute_result"
    }
   ],
   "source": [
    "sparql.setQuery(\"\"\"\n",
    "    SELECT ?p ?o WHERE { dbr:Rembrandt ?p ?o }\n",
    "\"\"\")\n",
    "\n",
    "result = sparql.query().convert().decode(\"utf-8\") \n",
    "df = pd.read_csv(StringIO(result), sep=\",\")\n",
    "df.head(20) #Show the first 30 results"
   ]
  },
  {
   "cell_type": "markdown",
   "metadata": {},
   "source": [
    "3. The list is partial, but one relation to explore could be the \"type\" of entity."
   ]
  },
  {
   "cell_type": "code",
   "execution_count": 68,
   "metadata": {},
   "outputs": [
    {
     "data": {
      "text/plain": "                                                    o\n0                 http://www.w3.org/2002/07/owl#Thing\n1                    http://xmlns.com/foaf/0.1/Person\n2                  http://dbpedia.org/ontology/Person\n3   http://www.ontologydesignpatterns.org/ont/dul/...\n4               http://www.wikidata.org/entity/Q19088\n5              http://www.wikidata.org/entity/Q215627\n6              http://www.wikidata.org/entity/Q483501\n7                   http://www.wikidata.org/entity/Q5\n8                 http://www.wikidata.org/entity/Q729\n9   http://dbpedia.org/class/yago/WikicatArtistsFr...\n10  http://dbpedia.org/class/yago/WikicatBaroquePa...\n11                 http://dbpedia.org/ontology/Animal\n12              http://dbpedia.org/ontology/Eukaryote\n13                http://dbpedia.org/ontology/Species\n14                           http://schema.org/Person\n15  http://dbpedia.org/class/yago/WikicatLeidenUni...\n16  http://dbpedia.org/class/yago/WikicatPeopleFro...\n17  http://dbpedia.org/class/yago/WikicatPeopleFro...\n18     http://dbpedia.org/class/yago/Alumnus109786338\n19      http://dbpedia.org/class/yago/Artist109812338\n20  http://dbpedia.org/class/yago/CausalAgent10000...\n21     http://dbpedia.org/class/yago/Creator109614315\n22    http://dbpedia.org/class/yago/Engraver110058155\n23  http://dbpedia.org/class/yago/Intellectual1096...\n24  http://dbpedia.org/class/yago/LivingThing10000...\n25      http://dbpedia.org/class/yago/Object100002684\n26    http://dbpedia.org/class/yago/Organism100004475\n27     http://dbpedia.org/class/yago/Painter110391653\n28      http://dbpedia.org/class/yago/Person100007846\n29  http://dbpedia.org/class/yago/PhysicalEntity10...",
      "text/html": "<div>\n<style scoped>\n    .dataframe tbody tr th:only-of-type {\n        vertical-align: middle;\n    }\n\n    .dataframe tbody tr th {\n        vertical-align: top;\n    }\n\n    .dataframe thead th {\n        text-align: right;\n    }\n</style>\n<table border=\"1\" class=\"dataframe\">\n  <thead>\n    <tr style=\"text-align: right;\">\n      <th></th>\n      <th>o</th>\n    </tr>\n  </thead>\n  <tbody>\n    <tr>\n      <th>0</th>\n      <td>http://www.w3.org/2002/07/owl#Thing</td>\n    </tr>\n    <tr>\n      <th>1</th>\n      <td>http://xmlns.com/foaf/0.1/Person</td>\n    </tr>\n    <tr>\n      <th>2</th>\n      <td>http://dbpedia.org/ontology/Person</td>\n    </tr>\n    <tr>\n      <th>3</th>\n      <td>http://www.ontologydesignpatterns.org/ont/dul/...</td>\n    </tr>\n    <tr>\n      <th>4</th>\n      <td>http://www.wikidata.org/entity/Q19088</td>\n    </tr>\n    <tr>\n      <th>5</th>\n      <td>http://www.wikidata.org/entity/Q215627</td>\n    </tr>\n    <tr>\n      <th>6</th>\n      <td>http://www.wikidata.org/entity/Q483501</td>\n    </tr>\n    <tr>\n      <th>7</th>\n      <td>http://www.wikidata.org/entity/Q5</td>\n    </tr>\n    <tr>\n      <th>8</th>\n      <td>http://www.wikidata.org/entity/Q729</td>\n    </tr>\n    <tr>\n      <th>9</th>\n      <td>http://dbpedia.org/class/yago/WikicatArtistsFr...</td>\n    </tr>\n    <tr>\n      <th>10</th>\n      <td>http://dbpedia.org/class/yago/WikicatBaroquePa...</td>\n    </tr>\n    <tr>\n      <th>11</th>\n      <td>http://dbpedia.org/ontology/Animal</td>\n    </tr>\n    <tr>\n      <th>12</th>\n      <td>http://dbpedia.org/ontology/Eukaryote</td>\n    </tr>\n    <tr>\n      <th>13</th>\n      <td>http://dbpedia.org/ontology/Species</td>\n    </tr>\n    <tr>\n      <th>14</th>\n      <td>http://schema.org/Person</td>\n    </tr>\n    <tr>\n      <th>15</th>\n      <td>http://dbpedia.org/class/yago/WikicatLeidenUni...</td>\n    </tr>\n    <tr>\n      <th>16</th>\n      <td>http://dbpedia.org/class/yago/WikicatPeopleFro...</td>\n    </tr>\n    <tr>\n      <th>17</th>\n      <td>http://dbpedia.org/class/yago/WikicatPeopleFro...</td>\n    </tr>\n    <tr>\n      <th>18</th>\n      <td>http://dbpedia.org/class/yago/Alumnus109786338</td>\n    </tr>\n    <tr>\n      <th>19</th>\n      <td>http://dbpedia.org/class/yago/Artist109812338</td>\n    </tr>\n    <tr>\n      <th>20</th>\n      <td>http://dbpedia.org/class/yago/CausalAgent10000...</td>\n    </tr>\n    <tr>\n      <th>21</th>\n      <td>http://dbpedia.org/class/yago/Creator109614315</td>\n    </tr>\n    <tr>\n      <th>22</th>\n      <td>http://dbpedia.org/class/yago/Engraver110058155</td>\n    </tr>\n    <tr>\n      <th>23</th>\n      <td>http://dbpedia.org/class/yago/Intellectual1096...</td>\n    </tr>\n    <tr>\n      <th>24</th>\n      <td>http://dbpedia.org/class/yago/LivingThing10000...</td>\n    </tr>\n    <tr>\n      <th>25</th>\n      <td>http://dbpedia.org/class/yago/Object100002684</td>\n    </tr>\n    <tr>\n      <th>26</th>\n      <td>http://dbpedia.org/class/yago/Organism100004475</td>\n    </tr>\n    <tr>\n      <th>27</th>\n      <td>http://dbpedia.org/class/yago/Painter110391653</td>\n    </tr>\n    <tr>\n      <th>28</th>\n      <td>http://dbpedia.org/class/yago/Person100007846</td>\n    </tr>\n    <tr>\n      <th>29</th>\n      <td>http://dbpedia.org/class/yago/PhysicalEntity10...</td>\n    </tr>\n  </tbody>\n</table>\n</div>"
     },
     "execution_count": 68,
     "metadata": {},
     "output_type": "execute_result"
    }
   ],
   "source": [
    "sparql.setQuery(\"\"\"\n",
    "    SELECT ?o WHERE { dbr:Rembrandt rdf:type ?o }\n",
    "\"\"\")\n",
    "\n",
    "result = sparql.query().convert().decode(\"utf-8\") \n",
    "df = pd.read_csv(StringIO(result), sep=\",\")\n",
    "df.head(30) #Show the first 30 results"
   ]
  },
  {
   "cell_type": "markdown",
   "metadata": {},
   "source": [
    "4. That's a lot---but probably you knew already a lot about him, let's move to another entity that is well-represented in Wikipedia."
   ]
  },
  {
   "cell_type": "code",
   "execution_count": 69,
   "metadata": {},
   "outputs": [
    {
     "data": {
      "text/plain": "                                                    o\n0                 http://www.w3.org/2002/07/owl#Thing\n1   http://www.ontologydesignpatterns.org/ont/dul/...\n2                   http://dbpedia.org/ontology/Agent\n3            http://www.wikidata.org/entity/Q24229398\n4               http://www.wikidata.org/entity/Q95074\n5      http://dbpedia.org/class/yago/Amputee109789566\n6     http://dbpedia.org/class/yago/Assassin109813696\n7      http://dbpedia.org/class/yago/Aviator109826204\n8    http://dbpedia.org/class/yago/BadPerson109831962\n9   http://dbpedia.org/class/yago/CausalAgent10000...\n10       http://dbpedia.org/class/yago/Child109917593\n11  http://dbpedia.org/class/yago/CommandingOffice...\n12  http://dbpedia.org/class/yago/CommissionedMili...\n13  http://dbpedia.org/class/yago/CommissionedOffi...\n14     http://dbpedia.org/class/yago/Creator109614315\n15    http://dbpedia.org/class/yago/Criminal109977660\n16      http://dbpedia.org/class/yago/Cyborg109985978\n17  http://dbpedia.org/class/yago/Embodiment110418302\n18  http://dbpedia.org/class/yago/EnlistedPerson11...\n19     http://dbpedia.org/class/yago/General110123844\n20  http://dbpedia.org/class/yago/GeneralOfficer11...\n21    http://dbpedia.org/class/yago/Inventor110214637\n22    http://dbpedia.org/class/yago/Juvenile109622049\n23      http://dbpedia.org/class/yago/Killer110231087\n24  http://dbpedia.org/class/yago/LivingThing10000...\n25     http://dbpedia.org/class/yago/Machine110278666\n26  http://dbpedia.org/class/yago/MassMurderer1102...\n27  http://dbpedia.org/class/yago/MilitaryOfficer1...\n28    http://dbpedia.org/class/yago/Murderer110338707\n29      http://dbpedia.org/class/yago/Object100002684",
      "text/html": "<div>\n<style scoped>\n    .dataframe tbody tr th:only-of-type {\n        vertical-align: middle;\n    }\n\n    .dataframe tbody tr th {\n        vertical-align: top;\n    }\n\n    .dataframe thead th {\n        text-align: right;\n    }\n</style>\n<table border=\"1\" class=\"dataframe\">\n  <thead>\n    <tr style=\"text-align: right;\">\n      <th></th>\n      <th>o</th>\n    </tr>\n  </thead>\n  <tbody>\n    <tr>\n      <th>0</th>\n      <td>http://www.w3.org/2002/07/owl#Thing</td>\n    </tr>\n    <tr>\n      <th>1</th>\n      <td>http://www.ontologydesignpatterns.org/ont/dul/...</td>\n    </tr>\n    <tr>\n      <th>2</th>\n      <td>http://dbpedia.org/ontology/Agent</td>\n    </tr>\n    <tr>\n      <th>3</th>\n      <td>http://www.wikidata.org/entity/Q24229398</td>\n    </tr>\n    <tr>\n      <th>4</th>\n      <td>http://www.wikidata.org/entity/Q95074</td>\n    </tr>\n    <tr>\n      <th>5</th>\n      <td>http://dbpedia.org/class/yago/Amputee109789566</td>\n    </tr>\n    <tr>\n      <th>6</th>\n      <td>http://dbpedia.org/class/yago/Assassin109813696</td>\n    </tr>\n    <tr>\n      <th>7</th>\n      <td>http://dbpedia.org/class/yago/Aviator109826204</td>\n    </tr>\n    <tr>\n      <th>8</th>\n      <td>http://dbpedia.org/class/yago/BadPerson109831962</td>\n    </tr>\n    <tr>\n      <th>9</th>\n      <td>http://dbpedia.org/class/yago/CausalAgent10000...</td>\n    </tr>\n    <tr>\n      <th>10</th>\n      <td>http://dbpedia.org/class/yago/Child109917593</td>\n    </tr>\n    <tr>\n      <th>11</th>\n      <td>http://dbpedia.org/class/yago/CommandingOffice...</td>\n    </tr>\n    <tr>\n      <th>12</th>\n      <td>http://dbpedia.org/class/yago/CommissionedMili...</td>\n    </tr>\n    <tr>\n      <th>13</th>\n      <td>http://dbpedia.org/class/yago/CommissionedOffi...</td>\n    </tr>\n    <tr>\n      <th>14</th>\n      <td>http://dbpedia.org/class/yago/Creator109614315</td>\n    </tr>\n    <tr>\n      <th>15</th>\n      <td>http://dbpedia.org/class/yago/Criminal109977660</td>\n    </tr>\n    <tr>\n      <th>16</th>\n      <td>http://dbpedia.org/class/yago/Cyborg109985978</td>\n    </tr>\n    <tr>\n      <th>17</th>\n      <td>http://dbpedia.org/class/yago/Embodiment110418302</td>\n    </tr>\n    <tr>\n      <th>18</th>\n      <td>http://dbpedia.org/class/yago/EnlistedPerson11...</td>\n    </tr>\n    <tr>\n      <th>19</th>\n      <td>http://dbpedia.org/class/yago/General110123844</td>\n    </tr>\n    <tr>\n      <th>20</th>\n      <td>http://dbpedia.org/class/yago/GeneralOfficer11...</td>\n    </tr>\n    <tr>\n      <th>21</th>\n      <td>http://dbpedia.org/class/yago/Inventor110214637</td>\n    </tr>\n    <tr>\n      <th>22</th>\n      <td>http://dbpedia.org/class/yago/Juvenile109622049</td>\n    </tr>\n    <tr>\n      <th>23</th>\n      <td>http://dbpedia.org/class/yago/Killer110231087</td>\n    </tr>\n    <tr>\n      <th>24</th>\n      <td>http://dbpedia.org/class/yago/LivingThing10000...</td>\n    </tr>\n    <tr>\n      <th>25</th>\n      <td>http://dbpedia.org/class/yago/Machine110278666</td>\n    </tr>\n    <tr>\n      <th>26</th>\n      <td>http://dbpedia.org/class/yago/MassMurderer1102...</td>\n    </tr>\n    <tr>\n      <th>27</th>\n      <td>http://dbpedia.org/class/yago/MilitaryOfficer1...</td>\n    </tr>\n    <tr>\n      <th>28</th>\n      <td>http://dbpedia.org/class/yago/Murderer110338707</td>\n    </tr>\n    <tr>\n      <th>29</th>\n      <td>http://dbpedia.org/class/yago/Object100002684</td>\n    </tr>\n  </tbody>\n</table>\n</div>"
     },
     "execution_count": 69,
     "metadata": {},
     "output_type": "execute_result"
    }
   ],
   "source": [
    "sparql.setQuery(\"\"\"\n",
    "    SELECT ?o WHERE { dbr:Darth_Vader rdf:type ?o }\n",
    "\"\"\")\n",
    "\n",
    "result = sparql.query().convert().decode(\"utf-8\") \n",
    "df = pd.read_csv(StringIO(result), sep=\",\")\n",
    "df.head(30) #Show the first 30 results"
   ]
  },
  {
   "cell_type": "markdown",
   "metadata": {},
   "source": [
    "5. With so many things, what is his actual occupation?"
   ]
  },
  {
   "cell_type": "code",
   "execution_count": 70,
   "metadata": {},
   "outputs": [
    {
     "data": {
      "text/plain": "                          occupation\n0   http://dbpedia.org/resource/Sith\n1  http://dbpedia.org/resource/Slave\n2   http://dbpedia.org/resource/Jedi",
      "text/html": "<div>\n<style scoped>\n    .dataframe tbody tr th:only-of-type {\n        vertical-align: middle;\n    }\n\n    .dataframe tbody tr th {\n        vertical-align: top;\n    }\n\n    .dataframe thead th {\n        text-align: right;\n    }\n</style>\n<table border=\"1\" class=\"dataframe\">\n  <thead>\n    <tr style=\"text-align: right;\">\n      <th></th>\n      <th>occupation</th>\n    </tr>\n  </thead>\n  <tbody>\n    <tr>\n      <th>0</th>\n      <td>http://dbpedia.org/resource/Sith</td>\n    </tr>\n    <tr>\n      <th>1</th>\n      <td>http://dbpedia.org/resource/Slave</td>\n    </tr>\n    <tr>\n      <th>2</th>\n      <td>http://dbpedia.org/resource/Jedi</td>\n    </tr>\n  </tbody>\n</table>\n</div>"
     },
     "execution_count": 70,
     "metadata": {},
     "output_type": "execute_result"
    }
   ],
   "source": [
    "sparql.setQuery(\"\"\"\n",
    "    SELECT ?occupation WHERE { dbr:Darth_Vader dbo:occupation ?occupation }\n",
    "\"\"\")\n",
    "\n",
    "result = sparql.query().convert().decode(\"utf-8\") \n",
    "df = pd.read_csv(StringIO(result), sep=\",\")\n",
    "df"
   ]
  },
  {
   "cell_type": "markdown",
   "metadata": {},
   "source": [
    "6. Wow, but who else then is a Jedi?"
   ]
  },
  {
   "cell_type": "code",
   "execution_count": 71,
   "metadata": {},
   "outputs": [
    {
     "data": {
      "text/plain": "                                               person\n0         http://dbpedia.org/resource/Rey_(Star_Wars)\n1               http://dbpedia.org/resource/Mara_Jade\n2            http://dbpedia.org/resource/Qui-Gon_Jinn\n3             http://dbpedia.org/resource/Count_Dooku\n4             http://dbpedia.org/resource/Quinlan_Vos\n5        http://dbpedia.org/resource/General_Grievous\n6          http://dbpedia.org/resource/Luke_Skywalker\n7              http://dbpedia.org/resource/Mace_Windu\n8              http://dbpedia.org/resource/Starkiller\n9             http://dbpedia.org/resource/Ahsoka_Tano\n10            http://dbpedia.org/resource/Darth_Vader\n11           http://dbpedia.org/resource/Ezra_Bridger\n12                  http://dbpedia.org/resource/Revan\n13             http://dbpedia.org/resource/Jacen_Solo\n14         http://dbpedia.org/resource/Asajj_Ventress\n15           http://dbpedia.org/resource/Kanan_Jarrus\n16         http://dbpedia.org/resource/Obi-Wan_Kenobi\n17                   http://dbpedia.org/resource/Yoda\n18  http://dbpedia.org/resource/Kylo_Ren__/_Ben_So...\n19  http://dbpedia.org/resource/Princess_Leia__Pri...",
      "text/html": "<div>\n<style scoped>\n    .dataframe tbody tr th:only-of-type {\n        vertical-align: middle;\n    }\n\n    .dataframe tbody tr th {\n        vertical-align: top;\n    }\n\n    .dataframe thead th {\n        text-align: right;\n    }\n</style>\n<table border=\"1\" class=\"dataframe\">\n  <thead>\n    <tr style=\"text-align: right;\">\n      <th></th>\n      <th>person</th>\n    </tr>\n  </thead>\n  <tbody>\n    <tr>\n      <th>0</th>\n      <td>http://dbpedia.org/resource/Rey_(Star_Wars)</td>\n    </tr>\n    <tr>\n      <th>1</th>\n      <td>http://dbpedia.org/resource/Mara_Jade</td>\n    </tr>\n    <tr>\n      <th>2</th>\n      <td>http://dbpedia.org/resource/Qui-Gon_Jinn</td>\n    </tr>\n    <tr>\n      <th>3</th>\n      <td>http://dbpedia.org/resource/Count_Dooku</td>\n    </tr>\n    <tr>\n      <th>4</th>\n      <td>http://dbpedia.org/resource/Quinlan_Vos</td>\n    </tr>\n    <tr>\n      <th>5</th>\n      <td>http://dbpedia.org/resource/General_Grievous</td>\n    </tr>\n    <tr>\n      <th>6</th>\n      <td>http://dbpedia.org/resource/Luke_Skywalker</td>\n    </tr>\n    <tr>\n      <th>7</th>\n      <td>http://dbpedia.org/resource/Mace_Windu</td>\n    </tr>\n    <tr>\n      <th>8</th>\n      <td>http://dbpedia.org/resource/Starkiller</td>\n    </tr>\n    <tr>\n      <th>9</th>\n      <td>http://dbpedia.org/resource/Ahsoka_Tano</td>\n    </tr>\n    <tr>\n      <th>10</th>\n      <td>http://dbpedia.org/resource/Darth_Vader</td>\n    </tr>\n    <tr>\n      <th>11</th>\n      <td>http://dbpedia.org/resource/Ezra_Bridger</td>\n    </tr>\n    <tr>\n      <th>12</th>\n      <td>http://dbpedia.org/resource/Revan</td>\n    </tr>\n    <tr>\n      <th>13</th>\n      <td>http://dbpedia.org/resource/Jacen_Solo</td>\n    </tr>\n    <tr>\n      <th>14</th>\n      <td>http://dbpedia.org/resource/Asajj_Ventress</td>\n    </tr>\n    <tr>\n      <th>15</th>\n      <td>http://dbpedia.org/resource/Kanan_Jarrus</td>\n    </tr>\n    <tr>\n      <th>16</th>\n      <td>http://dbpedia.org/resource/Obi-Wan_Kenobi</td>\n    </tr>\n    <tr>\n      <th>17</th>\n      <td>http://dbpedia.org/resource/Yoda</td>\n    </tr>\n    <tr>\n      <th>18</th>\n      <td>http://dbpedia.org/resource/Kylo_Ren__/_Ben_So...</td>\n    </tr>\n    <tr>\n      <th>19</th>\n      <td>http://dbpedia.org/resource/Princess_Leia__Pri...</td>\n    </tr>\n  </tbody>\n</table>\n</div>"
     },
     "execution_count": 71,
     "metadata": {},
     "output_type": "execute_result"
    }
   ],
   "source": [
    "sparql.setQuery(\"\"\"\n",
    "    SELECT ?person WHERE { ?person dbo:occupation dbr:Jedi }\n",
    "\"\"\")\n",
    "\n",
    "result = sparql.query().convert().decode(\"utf-8\") \n",
    "df = pd.read_csv(StringIO(result), sep=\",\")\n",
    "df"
   ]
  },
  {
   "cell_type": "markdown",
   "metadata": {},
   "source": [
    "7. And who is actually a Sith (spoiler alert)?  "
   ]
  },
  {
   "cell_type": "code",
   "execution_count": 72,
   "metadata": {},
   "outputs": [
    {
     "data": {
      "text/plain": "                                       person\n0     http://dbpedia.org/resource/Count_Dooku\n1      http://dbpedia.org/resource/Starkiller\n2  http://dbpedia.org/resource/Darth_Plagueis\n3      http://dbpedia.org/resource/Darth_Maul\n4     http://dbpedia.org/resource/Darth_Vader\n5       http://dbpedia.org/resource/Palpatine\n6  http://dbpedia.org/resource/Asajj_Ventress",
      "text/html": "<div>\n<style scoped>\n    .dataframe tbody tr th:only-of-type {\n        vertical-align: middle;\n    }\n\n    .dataframe tbody tr th {\n        vertical-align: top;\n    }\n\n    .dataframe thead th {\n        text-align: right;\n    }\n</style>\n<table border=\"1\" class=\"dataframe\">\n  <thead>\n    <tr style=\"text-align: right;\">\n      <th></th>\n      <th>person</th>\n    </tr>\n  </thead>\n  <tbody>\n    <tr>\n      <th>0</th>\n      <td>http://dbpedia.org/resource/Count_Dooku</td>\n    </tr>\n    <tr>\n      <th>1</th>\n      <td>http://dbpedia.org/resource/Starkiller</td>\n    </tr>\n    <tr>\n      <th>2</th>\n      <td>http://dbpedia.org/resource/Darth_Plagueis</td>\n    </tr>\n    <tr>\n      <th>3</th>\n      <td>http://dbpedia.org/resource/Darth_Maul</td>\n    </tr>\n    <tr>\n      <th>4</th>\n      <td>http://dbpedia.org/resource/Darth_Vader</td>\n    </tr>\n    <tr>\n      <th>5</th>\n      <td>http://dbpedia.org/resource/Palpatine</td>\n    </tr>\n    <tr>\n      <th>6</th>\n      <td>http://dbpedia.org/resource/Asajj_Ventress</td>\n    </tr>\n  </tbody>\n</table>\n</div>"
     },
     "execution_count": 72,
     "metadata": {},
     "output_type": "execute_result"
    }
   ],
   "source": [
    "sparql.setQuery(\"\"\"\n",
    "    SELECT ?person WHERE { ?person dbo:occupation dbr:Sith }\n",
    "\"\"\")\n",
    "\n",
    "result = sparql.query().convert().decode(\"utf-8\") \n",
    "df = pd.read_csv(StringIO(result), sep=\",\")\n",
    "df"
   ]
  },
  {
   "cell_type": "markdown",
   "metadata": {},
   "source": [
    "8. For those who don't want to know, how many are there?"
   ]
  },
  {
   "cell_type": "code",
   "execution_count": 73,
   "metadata": {},
   "outputs": [
    {
     "data": {
      "text/plain": "   callret-0\n0          7",
      "text/html": "<div>\n<style scoped>\n    .dataframe tbody tr th:only-of-type {\n        vertical-align: middle;\n    }\n\n    .dataframe tbody tr th {\n        vertical-align: top;\n    }\n\n    .dataframe thead th {\n        text-align: right;\n    }\n</style>\n<table border=\"1\" class=\"dataframe\">\n  <thead>\n    <tr style=\"text-align: right;\">\n      <th></th>\n      <th>callret-0</th>\n    </tr>\n  </thead>\n  <tbody>\n    <tr>\n      <th>0</th>\n      <td>7</td>\n    </tr>\n  </tbody>\n</table>\n</div>"
     },
     "execution_count": 73,
     "metadata": {},
     "output_type": "execute_result"
    }
   ],
   "source": [
    "sparql.setQuery(\"\"\"\n",
    "    SELECT count(?person) WHERE { ?person dbo:occupation dbr:Sith }\n",
    "\"\"\")\n",
    "\n",
    "result = sparql.query().convert().decode(\"utf-8\") \n",
    "df = pd.read_csv(StringIO(result), sep=\",\")\n",
    "df"
   ]
  },
  {
   "cell_type": "markdown",
   "metadata": {},
   "source": [
    "9. With Jedi becoming a career opportunity, what occupations are there anyway (incomplete list)?"
   ]
  },
  {
   "cell_type": "code",
   "execution_count": 74,
   "metadata": {},
   "outputs": [
    {
     "data": {
      "text/plain": "                                               person   \n0     http://dbpedia.org/resource/Everett_Alvarez_Jr.  \\\n1             http://dbpedia.org/resource/Fred_Hassan   \n2             http://dbpedia.org/resource/Lisa_Poppaw   \n3           http://dbpedia.org/resource/David_Brailer   \n4          http://dbpedia.org/resource/Geoffrey_Cowan   \n...                                               ...   \n9995          http://dbpedia.org/resource/Jack_Perrin   \n9996        http://dbpedia.org/resource/Jack_Plotnick   \n9997         http://dbpedia.org/resource/Jack_Raymond   \n9998   http://dbpedia.org/resource/Jack_Ryder_(actor)   \n9999        http://dbpedia.org/resource/Jack_Starrett   \n\n                                   occupation  \n0               http://alvarezassociates.com/  \n1                      http://caretgroup.com/  \n2     http://childsafecolorado.org/Staff.html  \n3                           http://cigna.com/  \n4     http://communicationleadership.usc.edu/  \n...                                       ...  \n9995        http://dbpedia.org/resource/Actor  \n9996        http://dbpedia.org/resource/Actor  \n9997        http://dbpedia.org/resource/Actor  \n9998        http://dbpedia.org/resource/Actor  \n9999        http://dbpedia.org/resource/Actor  \n\n[10000 rows x 2 columns]",
      "text/html": "<div>\n<style scoped>\n    .dataframe tbody tr th:only-of-type {\n        vertical-align: middle;\n    }\n\n    .dataframe tbody tr th {\n        vertical-align: top;\n    }\n\n    .dataframe thead th {\n        text-align: right;\n    }\n</style>\n<table border=\"1\" class=\"dataframe\">\n  <thead>\n    <tr style=\"text-align: right;\">\n      <th></th>\n      <th>person</th>\n      <th>occupation</th>\n    </tr>\n  </thead>\n  <tbody>\n    <tr>\n      <th>0</th>\n      <td>http://dbpedia.org/resource/Everett_Alvarez_Jr.</td>\n      <td>http://alvarezassociates.com/</td>\n    </tr>\n    <tr>\n      <th>1</th>\n      <td>http://dbpedia.org/resource/Fred_Hassan</td>\n      <td>http://caretgroup.com/</td>\n    </tr>\n    <tr>\n      <th>2</th>\n      <td>http://dbpedia.org/resource/Lisa_Poppaw</td>\n      <td>http://childsafecolorado.org/Staff.html</td>\n    </tr>\n    <tr>\n      <th>3</th>\n      <td>http://dbpedia.org/resource/David_Brailer</td>\n      <td>http://cigna.com/</td>\n    </tr>\n    <tr>\n      <th>4</th>\n      <td>http://dbpedia.org/resource/Geoffrey_Cowan</td>\n      <td>http://communicationleadership.usc.edu/</td>\n    </tr>\n    <tr>\n      <th>...</th>\n      <td>...</td>\n      <td>...</td>\n    </tr>\n    <tr>\n      <th>9995</th>\n      <td>http://dbpedia.org/resource/Jack_Perrin</td>\n      <td>http://dbpedia.org/resource/Actor</td>\n    </tr>\n    <tr>\n      <th>9996</th>\n      <td>http://dbpedia.org/resource/Jack_Plotnick</td>\n      <td>http://dbpedia.org/resource/Actor</td>\n    </tr>\n    <tr>\n      <th>9997</th>\n      <td>http://dbpedia.org/resource/Jack_Raymond</td>\n      <td>http://dbpedia.org/resource/Actor</td>\n    </tr>\n    <tr>\n      <th>9998</th>\n      <td>http://dbpedia.org/resource/Jack_Ryder_(actor)</td>\n      <td>http://dbpedia.org/resource/Actor</td>\n    </tr>\n    <tr>\n      <th>9999</th>\n      <td>http://dbpedia.org/resource/Jack_Starrett</td>\n      <td>http://dbpedia.org/resource/Actor</td>\n    </tr>\n  </tbody>\n</table>\n<p>10000 rows × 2 columns</p>\n</div>"
     },
     "execution_count": 74,
     "metadata": {},
     "output_type": "execute_result"
    }
   ],
   "source": [
    "sparql.setQuery(\"\"\"\n",
    "    SELECT ?person ?occupation WHERE { ?person dbo:occupation ?occupation } ORDER BY ?occupation\n",
    "\"\"\")\n",
    "\n",
    "result = sparql.query().convert().decode(\"utf-8\") \n",
    "df = pd.read_csv(StringIO(result), sep=\",\")\n",
    "df"
   ]
  },
  {
   "cell_type": "markdown",
   "metadata": {},
   "source": [
    "10. Impressive, but how many people are there in DBpedia anyway, when looking at nationality?"
   ]
  },
  {
   "cell_type": "code",
   "execution_count": 75,
   "metadata": {},
   "outputs": [
    {
     "data": {
      "text/plain": "      callret-0                                        nationality\n0             1  http://dbpedia.org/resource/18th-century_histo...\n1             1  http://dbpedia.org/resource/1931_French_Grand_...\n2             1  http://dbpedia.org/resource/1951_French_Grand_...\n3             1  http://dbpedia.org/resource/1952_Italian_Grand...\n4             1  http://dbpedia.org/resource/1956_Argentine_Gra...\n...         ...                                                ...\n3611          1                  http://dbpedia.org/resource/Åland\n3612          7  http://dbpedia.org/resource/Úrvalsdeild_karla_...\n3613          1  http://dbpedia.org/resource/Úrvalsdeild_kvenna...\n3614          2            http://dbpedia.org/resource/Đại_Cồ_Việt\n3615          1                  http://dbpedia.org/resource/Śākya\n\n[3616 rows x 2 columns]",
      "text/html": "<div>\n<style scoped>\n    .dataframe tbody tr th:only-of-type {\n        vertical-align: middle;\n    }\n\n    .dataframe tbody tr th {\n        vertical-align: top;\n    }\n\n    .dataframe thead th {\n        text-align: right;\n    }\n</style>\n<table border=\"1\" class=\"dataframe\">\n  <thead>\n    <tr style=\"text-align: right;\">\n      <th></th>\n      <th>callret-0</th>\n      <th>nationality</th>\n    </tr>\n  </thead>\n  <tbody>\n    <tr>\n      <th>0</th>\n      <td>1</td>\n      <td>http://dbpedia.org/resource/18th-century_histo...</td>\n    </tr>\n    <tr>\n      <th>1</th>\n      <td>1</td>\n      <td>http://dbpedia.org/resource/1931_French_Grand_...</td>\n    </tr>\n    <tr>\n      <th>2</th>\n      <td>1</td>\n      <td>http://dbpedia.org/resource/1951_French_Grand_...</td>\n    </tr>\n    <tr>\n      <th>3</th>\n      <td>1</td>\n      <td>http://dbpedia.org/resource/1952_Italian_Grand...</td>\n    </tr>\n    <tr>\n      <th>4</th>\n      <td>1</td>\n      <td>http://dbpedia.org/resource/1956_Argentine_Gra...</td>\n    </tr>\n    <tr>\n      <th>...</th>\n      <td>...</td>\n      <td>...</td>\n    </tr>\n    <tr>\n      <th>3611</th>\n      <td>1</td>\n      <td>http://dbpedia.org/resource/Åland</td>\n    </tr>\n    <tr>\n      <th>3612</th>\n      <td>7</td>\n      <td>http://dbpedia.org/resource/Úrvalsdeild_karla_...</td>\n    </tr>\n    <tr>\n      <th>3613</th>\n      <td>1</td>\n      <td>http://dbpedia.org/resource/Úrvalsdeild_kvenna...</td>\n    </tr>\n    <tr>\n      <th>3614</th>\n      <td>2</td>\n      <td>http://dbpedia.org/resource/Đại_Cồ_Việt</td>\n    </tr>\n    <tr>\n      <th>3615</th>\n      <td>1</td>\n      <td>http://dbpedia.org/resource/Śākya</td>\n    </tr>\n  </tbody>\n</table>\n<p>3616 rows × 2 columns</p>\n</div>"
     },
     "execution_count": 75,
     "metadata": {},
     "output_type": "execute_result"
    }
   ],
   "source": [
    "sparql.setQuery(\"\"\"\n",
    "    SELECT count(?nationality) ?nationality \n",
    "       WHERE { ?person dbo:nationality ?nationality } ORDER BY ?nationality\n",
    "\"\"\")\n",
    "\n",
    "result = sparql.query().convert().decode(\"utf-8\") \n",
    "df = pd.read_csv(StringIO(result), sep=\",\")\n",
    "df"
   ]
  },
  {
   "cell_type": "markdown",
   "metadata": {},
   "source": [
    "11. Hmm. Some interesting nationalities there... Also this may be a somewhat biased world view---let's sort that by \"impact on Wikipedia\"?"
   ]
  },
  {
   "cell_type": "code",
   "execution_count": 76,
   "metadata": {},
   "outputs": [
    {
     "data": {
      "text/plain": "      count                                  nationality\n0     20971    http://dbpedia.org/resource/United_States\n1      7260   http://dbpedia.org/resource/United_Kingdom\n2      4818            http://dbpedia.org/resource/India\n3      4764        http://dbpedia.org/resource/Americans\n4      3912        http://dbpedia.org/resource/Canadians\n...     ...                                          ...\n3611      1    http://dbpedia.org/resource/Fijian_people\n3612      1     http://dbpedia.org/resource/Limbu_people\n3613      1        http://dbpedia.org/resource/Dubrovnik\n3614      1   http://dbpedia.org/resource/Teochew_people\n3615      1  http://dbpedia.org/resource/Polish_diaspora\n\n[3616 rows x 2 columns]",
      "text/html": "<div>\n<style scoped>\n    .dataframe tbody tr th:only-of-type {\n        vertical-align: middle;\n    }\n\n    .dataframe tbody tr th {\n        vertical-align: top;\n    }\n\n    .dataframe thead th {\n        text-align: right;\n    }\n</style>\n<table border=\"1\" class=\"dataframe\">\n  <thead>\n    <tr style=\"text-align: right;\">\n      <th></th>\n      <th>count</th>\n      <th>nationality</th>\n    </tr>\n  </thead>\n  <tbody>\n    <tr>\n      <th>0</th>\n      <td>20971</td>\n      <td>http://dbpedia.org/resource/United_States</td>\n    </tr>\n    <tr>\n      <th>1</th>\n      <td>7260</td>\n      <td>http://dbpedia.org/resource/United_Kingdom</td>\n    </tr>\n    <tr>\n      <th>2</th>\n      <td>4818</td>\n      <td>http://dbpedia.org/resource/India</td>\n    </tr>\n    <tr>\n      <th>3</th>\n      <td>4764</td>\n      <td>http://dbpedia.org/resource/Americans</td>\n    </tr>\n    <tr>\n      <th>4</th>\n      <td>3912</td>\n      <td>http://dbpedia.org/resource/Canadians</td>\n    </tr>\n    <tr>\n      <th>...</th>\n      <td>...</td>\n      <td>...</td>\n    </tr>\n    <tr>\n      <th>3611</th>\n      <td>1</td>\n      <td>http://dbpedia.org/resource/Fijian_people</td>\n    </tr>\n    <tr>\n      <th>3612</th>\n      <td>1</td>\n      <td>http://dbpedia.org/resource/Limbu_people</td>\n    </tr>\n    <tr>\n      <th>3613</th>\n      <td>1</td>\n      <td>http://dbpedia.org/resource/Dubrovnik</td>\n    </tr>\n    <tr>\n      <th>3614</th>\n      <td>1</td>\n      <td>http://dbpedia.org/resource/Teochew_people</td>\n    </tr>\n    <tr>\n      <th>3615</th>\n      <td>1</td>\n      <td>http://dbpedia.org/resource/Polish_diaspora</td>\n    </tr>\n  </tbody>\n</table>\n<p>3616 rows × 2 columns</p>\n</div>"
     },
     "execution_count": 76,
     "metadata": {},
     "output_type": "execute_result"
    }
   ],
   "source": [
    "sparql.setQuery(\"\"\"\n",
    "    SELECT count(?nationality) AS ?count ?nationality \n",
    "       WHERE { ?person dbo:nationality ?nationality } ORDER BY DESC(?count)\n",
    "\"\"\")\n",
    "\n",
    "result = sparql.query().convert().decode(\"utf-8\") \n",
    "df = pd.read_csv(StringIO(result), sep=\",\")\n",
    "df"
   ]
  },
  {
   "cell_type": "markdown",
   "metadata": {},
   "source": [
    "12. Etcetera."
   ]
  },
  {
   "cell_type": "markdown",
   "metadata": {},
   "source": [
    "**Part 3**\n",
    "\n",
    "Are there issues with completeness of encoding (does Rembrandt have an occupation or nationality?) or with selection and bias/representation that you observed in this example walk?"
   ]
  },
  {
   "cell_type": "code",
   "execution_count": 77,
   "outputs": [
    {
     "data": {
      "text/plain": "Empty DataFrame\nColumns: [occupation]\nIndex: []",
      "text/html": "<div>\n<style scoped>\n    .dataframe tbody tr th:only-of-type {\n        vertical-align: middle;\n    }\n\n    .dataframe tbody tr th {\n        vertical-align: top;\n    }\n\n    .dataframe thead th {\n        text-align: right;\n    }\n</style>\n<table border=\"1\" class=\"dataframe\">\n  <thead>\n    <tr style=\"text-align: right;\">\n      <th></th>\n      <th>occupation</th>\n    </tr>\n  </thead>\n  <tbody>\n  </tbody>\n</table>\n</div>"
     },
     "execution_count": 77,
     "metadata": {},
     "output_type": "execute_result"
    }
   ],
   "source": [
    "#Checking if Rembrandt has an occupation\n",
    "sparql.setQuery(\"\"\"\n",
    "    SELECT ?occupation WHERE { dbr:Rembrandt dbo:occupation ?occupation }\n",
    "\"\"\")\n",
    "result = sparql.query().convert().decode(\"utf-8\")\n",
    "df = pd.read_csv(StringIO(result), sep=\",\")\n",
    "df"
   ],
   "metadata": {
    "collapsed": false
   }
  },
  {
   "cell_type": "code",
   "execution_count": 78,
   "outputs": [
    {
     "data": {
      "text/plain": "Empty DataFrame\nColumns: [nationality]\nIndex: []",
      "text/html": "<div>\n<style scoped>\n    .dataframe tbody tr th:only-of-type {\n        vertical-align: middle;\n    }\n\n    .dataframe tbody tr th {\n        vertical-align: top;\n    }\n\n    .dataframe thead th {\n        text-align: right;\n    }\n</style>\n<table border=\"1\" class=\"dataframe\">\n  <thead>\n    <tr style=\"text-align: right;\">\n      <th></th>\n      <th>nationality</th>\n    </tr>\n  </thead>\n  <tbody>\n  </tbody>\n</table>\n</div>"
     },
     "execution_count": 78,
     "metadata": {},
     "output_type": "execute_result"
    }
   ],
   "source": [
    "#Checking if Rembrandt has an nationality\n",
    "sparql.setQuery(\"\"\"\n",
    "    SELECT ?nationality WHERE { dbr:Rembrandt dbo:nationality ?nationality }\n",
    "\"\"\")\n",
    "result = sparql.query().convert().decode(\"utf-8\")\n",
    "df = pd.read_csv(StringIO(result), sep=\",\")\n",
    "df"
   ],
   "metadata": {
    "collapsed": false
   }
  },
  {
   "cell_type": "markdown",
   "metadata": {},
   "source": [
    "### According to the code, there is no nationality or occupation for Rembrandt. This is consistent with the DBPedia page as there are no nationality or occupation atributes."
   ]
  },
  {
   "cell_type": "markdown",
   "metadata": {},
   "source": [
    "## Make your own walk!"
   ]
  },
  {
   "cell_type": "markdown",
   "metadata": {},
   "source": [
    "In a similar way as the example walk, make your own walk through DBpedia/Wikipedia. Explore some of the amazing power SPARQL queries give you to explore, as well as being aware of the limitations and bias of the collection and the encoding. We reward creativity as much as technical skills: some of the most interesting queries are a very simple SPARQL statement! Just like in Assignment 1, please do put a topic that you are interested into this one, not one of our boring example ones."
   ]
  },
  {
   "cell_type": "markdown",
   "metadata": {},
   "source": [
    "**(Your answers with query code blocks here)**"
   ]
  },
  {
   "cell_type": "markdown",
   "metadata": {},
   "source": [
    "# 5. Annotating a corpus\n",
    "\n",
    "Up to now, we have only queried DBpedia/Wikipedia, but the true power of linked open data is the ability to connect any corpus to the entities in DBpedia.  Manually annotating a corpus is very laborious, but automatic tools for entity linking can potentially annotate any DBpedia entity found in any text.\n",
    "\n",
    "In Python, Spacy has a DBpedia Spotlight-based entity recognizer. Spacy is a very useful Python tool that can handle a large variety of text processing tasks, including also named entity recognition, sentiment analysis, part-of-speech tagging or text categorization, for various languages. It is definitely worth exploring more in your project or some other time.\n",
    "\n",
    "As this assignment is already long enough, we will only briefly show how it works and ask you to experiment with it in a free format.\n",
    "\n",
    "Let's install it:"
   ]
  },
  {
   "cell_type": "code",
   "execution_count": 79,
   "metadata": {},
   "outputs": [
    {
     "name": "stdout",
     "output_type": "stream",
     "text": [
      "Collecting spacy-dbpedia-spotlight\r\n",
      "  Downloading spacy_dbpedia_spotlight-0.2.6.tar.gz (17 kB)\r\n",
      "  Preparing metadata (setup.py) ... \u001B[?25ldone\r\n",
      "\u001B[?25hCollecting spacy<4.0.0,>=3.0.0 (from spacy-dbpedia-spotlight)\r\n",
      "  Downloading spacy-3.5.2-cp310-cp310-macosx_11_0_arm64.whl (6.6 MB)\r\n",
      "\u001B[2K     \u001B[90m━━━━━━━━━━━━━━━━━━━━━━━━━━━━━━━━━━━━━━━━\u001B[0m \u001B[32m6.6/6.6 MB\u001B[0m \u001B[31m6.8 MB/s\u001B[0m eta \u001B[36m0:00:00\u001B[0m00:01\u001B[0m00:01\u001B[0mm\r\n",
      "\u001B[?25hCollecting loguru (from spacy-dbpedia-spotlight)\r\n",
      "  Downloading loguru-0.7.0-py3-none-any.whl (59 kB)\r\n",
      "\u001B[2K     \u001B[90m━━━━━━━━━━━━━━━━━━━━━━━━━━━━━━━━━━━━━━━━\u001B[0m \u001B[32m60.0/60.0 kB\u001B[0m \u001B[31m3.3 MB/s\u001B[0m eta \u001B[36m0:00:00\u001B[0m\r\n",
      "\u001B[?25hCollecting spacy-legacy<3.1.0,>=3.0.11 (from spacy<4.0.0,>=3.0.0->spacy-dbpedia-spotlight)\r\n",
      "  Downloading spacy_legacy-3.0.12-py2.py3-none-any.whl (29 kB)\r\n",
      "Collecting spacy-loggers<2.0.0,>=1.0.0 (from spacy<4.0.0,>=3.0.0->spacy-dbpedia-spotlight)\r\n",
      "  Downloading spacy_loggers-1.0.4-py3-none-any.whl (11 kB)\r\n",
      "Collecting murmurhash<1.1.0,>=0.28.0 (from spacy<4.0.0,>=3.0.0->spacy-dbpedia-spotlight)\r\n",
      "  Downloading murmurhash-1.0.9-cp310-cp310-macosx_11_0_arm64.whl (19 kB)\r\n",
      "Collecting cymem<2.1.0,>=2.0.2 (from spacy<4.0.0,>=3.0.0->spacy-dbpedia-spotlight)\r\n",
      "  Downloading cymem-2.0.7-cp310-cp310-macosx_11_0_arm64.whl (30 kB)\r\n",
      "Collecting preshed<3.1.0,>=3.0.2 (from spacy<4.0.0,>=3.0.0->spacy-dbpedia-spotlight)\r\n",
      "  Downloading preshed-3.0.8-cp310-cp310-macosx_11_0_arm64.whl (101 kB)\r\n",
      "\u001B[2K     \u001B[90m━━━━━━━━━━━━━━━━━━━━━━━━━━━━━━━━━━━━━━━\u001B[0m \u001B[32m101.5/101.5 kB\u001B[0m \u001B[31m2.3 MB/s\u001B[0m eta \u001B[36m0:00:00\u001B[0ma \u001B[36m0:00:01\u001B[0m\r\n",
      "\u001B[?25hCollecting thinc<8.2.0,>=8.1.8 (from spacy<4.0.0,>=3.0.0->spacy-dbpedia-spotlight)\r\n",
      "  Downloading thinc-8.1.9-cp310-cp310-macosx_11_0_arm64.whl (775 kB)\r\n",
      "\u001B[2K     \u001B[90m━━━━━━━━━━━━━━━━━━━━━━━━━━━━━━━━━━━━━━━\u001B[0m \u001B[32m776.0/776.0 kB\u001B[0m \u001B[31m5.5 MB/s\u001B[0m eta \u001B[36m0:00:00\u001B[0m00:01\u001B[0m00:01\u001B[0m\r\n",
      "\u001B[?25hCollecting wasabi<1.2.0,>=0.9.1 (from spacy<4.0.0,>=3.0.0->spacy-dbpedia-spotlight)\r\n",
      "  Downloading wasabi-1.1.1-py3-none-any.whl (27 kB)\r\n",
      "Collecting srsly<3.0.0,>=2.4.3 (from spacy<4.0.0,>=3.0.0->spacy-dbpedia-spotlight)\r\n",
      "  Downloading srsly-2.4.6-cp310-cp310-macosx_11_0_arm64.whl (490 kB)\r\n",
      "\u001B[2K     \u001B[90m━━━━━━━━━━━━━━━━━━━━━━━━━━━━━━━━━━━━━━━\u001B[0m \u001B[32m490.3/490.3 kB\u001B[0m \u001B[31m7.0 MB/s\u001B[0m eta \u001B[36m0:00:00\u001B[0ma \u001B[36m0:00:01\u001B[0m\r\n",
      "\u001B[?25hCollecting catalogue<2.1.0,>=2.0.6 (from spacy<4.0.0,>=3.0.0->spacy-dbpedia-spotlight)\r\n",
      "  Downloading catalogue-2.0.8-py3-none-any.whl (17 kB)\r\n",
      "Collecting typer<0.8.0,>=0.3.0 (from spacy<4.0.0,>=3.0.0->spacy-dbpedia-spotlight)\r\n",
      "  Downloading typer-0.7.0-py3-none-any.whl (38 kB)\r\n",
      "Collecting pathy>=0.10.0 (from spacy<4.0.0,>=3.0.0->spacy-dbpedia-spotlight)\r\n",
      "  Downloading pathy-0.10.1-py3-none-any.whl (48 kB)\r\n",
      "\u001B[2K     \u001B[90m━━━━━━━━━━━━━━━━━━━━━━━━━━━━━━━━━━━━━━━━\u001B[0m \u001B[32m48.9/48.9 kB\u001B[0m \u001B[31m7.0 MB/s\u001B[0m eta \u001B[36m0:00:00\u001B[0m\r\n",
      "\u001B[?25hRequirement already satisfied: smart-open<7.0.0,>=5.2.1 in /Users/george/Desktop/Uni/Development/DDR23/venv/lib/python3.10/site-packages (from spacy<4.0.0,>=3.0.0->spacy-dbpedia-spotlight) (6.3.0)\r\n",
      "Requirement already satisfied: tqdm<5.0.0,>=4.38.0 in /Users/george/Desktop/Uni/Development/DDR23/venv/lib/python3.10/site-packages (from spacy<4.0.0,>=3.0.0->spacy-dbpedia-spotlight) (4.65.0)\r\n",
      "Requirement already satisfied: numpy>=1.15.0 in /Users/george/Desktop/Uni/Development/DDR23/venv/lib/python3.10/site-packages (from spacy<4.0.0,>=3.0.0->spacy-dbpedia-spotlight) (1.24.3)\r\n",
      "Requirement already satisfied: requests<3.0.0,>=2.13.0 in /Users/george/Desktop/Uni/Development/DDR23/venv/lib/python3.10/site-packages (from spacy<4.0.0,>=3.0.0->spacy-dbpedia-spotlight) (2.28.2)\r\n",
      "Collecting pydantic!=1.8,!=1.8.1,<1.11.0,>=1.7.4 (from spacy<4.0.0,>=3.0.0->spacy-dbpedia-spotlight)\r\n",
      "  Downloading pydantic-1.10.7-cp310-cp310-macosx_11_0_arm64.whl (2.5 MB)\r\n",
      "\u001B[2K     \u001B[90m━━━━━━━━━━━━━━━━━━━━━━━━━━━━━━━━━━━━━━━━\u001B[0m \u001B[32m2.5/2.5 MB\u001B[0m \u001B[31m9.0 MB/s\u001B[0m eta \u001B[36m0:00:00\u001B[0m00:01\u001B[0mm00:01\u001B[0m\r\n",
      "\u001B[?25hRequirement already satisfied: jinja2 in /Users/george/Desktop/Uni/Development/DDR23/venv/lib/python3.10/site-packages (from spacy<4.0.0,>=3.0.0->spacy-dbpedia-spotlight) (3.1.2)\r\n",
      "Requirement already satisfied: setuptools in /Users/george/Desktop/Uni/Development/DDR23/venv/lib/python3.10/site-packages (from spacy<4.0.0,>=3.0.0->spacy-dbpedia-spotlight) (65.5.1)\r\n",
      "Requirement already satisfied: packaging>=20.0 in /Users/george/Desktop/Uni/Development/DDR23/venv/lib/python3.10/site-packages (from spacy<4.0.0,>=3.0.0->spacy-dbpedia-spotlight) (23.0)\r\n",
      "Collecting langcodes<4.0.0,>=3.2.0 (from spacy<4.0.0,>=3.0.0->spacy-dbpedia-spotlight)\r\n",
      "  Downloading langcodes-3.3.0-py3-none-any.whl (181 kB)\r\n",
      "\u001B[2K     \u001B[90m━━━━━━━━━━━━━━━━━━━━━━━━━━━━━━━━━━━━━━━\u001B[0m \u001B[32m181.6/181.6 kB\u001B[0m \u001B[31m7.0 MB/s\u001B[0m eta \u001B[36m0:00:00\u001B[0m\r\n",
      "\u001B[?25hRequirement already satisfied: typing-extensions>=4.2.0 in /Users/george/Desktop/Uni/Development/DDR23/venv/lib/python3.10/site-packages (from pydantic!=1.8,!=1.8.1,<1.11.0,>=1.7.4->spacy<4.0.0,>=3.0.0->spacy-dbpedia-spotlight) (4.5.0)\r\n",
      "Requirement already satisfied: charset-normalizer<4,>=2 in /Users/george/Desktop/Uni/Development/DDR23/venv/lib/python3.10/site-packages (from requests<3.0.0,>=2.13.0->spacy<4.0.0,>=3.0.0->spacy-dbpedia-spotlight) (3.1.0)\r\n",
      "Requirement already satisfied: idna<4,>=2.5 in /Users/george/Desktop/Uni/Development/DDR23/venv/lib/python3.10/site-packages (from requests<3.0.0,>=2.13.0->spacy<4.0.0,>=3.0.0->spacy-dbpedia-spotlight) (3.4)\r\n",
      "Requirement already satisfied: urllib3<1.27,>=1.21.1 in /Users/george/Desktop/Uni/Development/DDR23/venv/lib/python3.10/site-packages (from requests<3.0.0,>=2.13.0->spacy<4.0.0,>=3.0.0->spacy-dbpedia-spotlight) (1.26.15)\r\n",
      "Requirement already satisfied: certifi>=2017.4.17 in /Users/george/Desktop/Uni/Development/DDR23/venv/lib/python3.10/site-packages (from requests<3.0.0,>=2.13.0->spacy<4.0.0,>=3.0.0->spacy-dbpedia-spotlight) (2022.12.7)\r\n",
      "Collecting blis<0.8.0,>=0.7.8 (from thinc<8.2.0,>=8.1.8->spacy<4.0.0,>=3.0.0->spacy-dbpedia-spotlight)\r\n",
      "  Downloading blis-0.7.9-cp310-cp310-macosx_11_0_arm64.whl (1.1 MB)\r\n",
      "\u001B[2K     \u001B[90m━━━━━━━━━━━━━━━━━━━━━━━━━━━━━━━━━━━━━━━━\u001B[0m \u001B[32m1.1/1.1 MB\u001B[0m \u001B[31m9.0 MB/s\u001B[0m eta \u001B[36m0:00:00\u001B[0m:00:01\u001B[0m00:01\u001B[0m\r\n",
      "\u001B[?25hCollecting confection<1.0.0,>=0.0.1 (from thinc<8.2.0,>=8.1.8->spacy<4.0.0,>=3.0.0->spacy-dbpedia-spotlight)\r\n",
      "  Downloading confection-0.0.4-py3-none-any.whl (32 kB)\r\n",
      "Requirement already satisfied: click<9.0.0,>=7.1.1 in /Users/george/Desktop/Uni/Development/DDR23/venv/lib/python3.10/site-packages (from typer<0.8.0,>=0.3.0->spacy<4.0.0,>=3.0.0->spacy-dbpedia-spotlight) (8.1.3)\r\n",
      "Requirement already satisfied: MarkupSafe>=2.0 in /Users/george/Desktop/Uni/Development/DDR23/venv/lib/python3.10/site-packages (from jinja2->spacy<4.0.0,>=3.0.0->spacy-dbpedia-spotlight) (2.1.2)\r\n",
      "Building wheels for collected packages: spacy-dbpedia-spotlight\r\n",
      "  Building wheel for spacy-dbpedia-spotlight (setup.py) ... \u001B[?25ldone\r\n",
      "\u001B[?25h  Created wheel for spacy-dbpedia-spotlight: filename=spacy_dbpedia_spotlight-0.2.6-py3-none-any.whl size=13286 sha256=97f336d0c18c654b735e94c0e5a2d041af068bdd80384a64a8c345f68e2cd703\r\n",
      "  Stored in directory: /Users/george/Library/Caches/pip/wheels/05/95/7b/1c82c6851bfe6d16b31a0c369d4ababfeebcca4c5e3be7e8de\r\n",
      "Successfully built spacy-dbpedia-spotlight\r\n",
      "Installing collected packages: cymem, wasabi, typer, spacy-loggers, spacy-legacy, pydantic, murmurhash, loguru, langcodes, catalogue, blis, srsly, preshed, pathy, confection, thinc, spacy, spacy-dbpedia-spotlight\r\n",
      "Successfully installed blis-0.7.9 catalogue-2.0.8 confection-0.0.4 cymem-2.0.7 langcodes-3.3.0 loguru-0.7.0 murmurhash-1.0.9 pathy-0.10.1 preshed-3.0.8 pydantic-1.10.7 spacy-3.5.2 spacy-dbpedia-spotlight-0.2.6 spacy-legacy-3.0.12 spacy-loggers-1.0.4 srsly-2.4.6 thinc-8.1.9 typer-0.7.0 wasabi-1.1.1\r\n"
     ]
    }
   ],
   "source": [
    "!pip install spacy-dbpedia-spotlight"
   ]
  },
  {
   "cell_type": "markdown",
   "metadata": {},
   "source": [
    "We will make a text processing pipeline that only includes the DBedia entity linker, and nothing else:"
   ]
  },
  {
   "cell_type": "code",
   "execution_count": 80,
   "metadata": {},
   "outputs": [
    {
     "name": "stdout",
     "output_type": "stream",
     "text": [
      "['dbpedia_spotlight']\n"
     ]
    }
   ],
   "source": [
    "import spacy_dbpedia_spotlight\n",
    "# a new blank model will be created, with the language code provided in the parameter\n",
    "nlp = spacy_dbpedia_spotlight.create('en')\n",
    "# in this case, the pipeline will be only contain the EntityLinker\n",
    "print(nlp.pipe_names)\n",
    "# ['dbpedia_spotlight']"
   ]
  },
  {
   "cell_type": "markdown",
   "metadata": {},
   "source": [
    "If you are able to experiment with a different language than English, we encourage you to try it! For that, you can change the 'en' language code above to a different language code.\n",
    "\n",
    "Now, we simply need to use the nlp function on a string, and it will attempt to recognize DBPedia entities in it:"
   ]
  },
  {
   "cell_type": "code",
   "execution_count": 81,
   "metadata": {},
   "outputs": [
    {
     "name": "stdout",
     "output_type": "stream",
     "text": [
      "(University Of Amsterdam, Dutch, Amsterdam)\n",
      "[('University Of Amsterdam', 'http://dbpedia.org/resource/University_of_Amsterdam', '1.0'), ('Dutch', 'http://dbpedia.org/resource/Netherlands', '0.7255664488349297'), ('Amsterdam', 'http://dbpedia.org/resource/Amsterdam', '0.9999436227871693')]\n"
     ]
    }
   ],
   "source": [
    "doc = nlp('The University Of Amsterdam is a Dutch higher education institution located in Amsterdam.')\n",
    "\n",
    "print(doc.ents) #This just prints the entities that were found\n",
    "\n",
    "#This prints some more details, including the DBPedia identifier and the similarity score:\n",
    "print([(ent.text, ent.kb_id_, ent._.dbpedia_raw_result['@similarityScore']) for ent in doc.ents])"
   ]
  },
  {
   "cell_type": "markdown",
   "metadata": {},
   "source": [
    "Let's just make a tiny change to the input and see if the output changes:"
   ]
  },
  {
   "cell_type": "code",
   "execution_count": 82,
   "metadata": {},
   "outputs": [
    {
     "name": "stdout",
     "output_type": "stream",
     "text": [
      "[('Amsterdam', 'http://dbpedia.org/resource/Amsterdam', '0.9999436227871693'), ('Dutch', 'http://dbpedia.org/resource/Netherlands', '0.7255664488349297'), ('Amsterdam', 'http://dbpedia.org/resource/Amsterdam', '0.9999436227871693')]\n"
     ]
    }
   ],
   "source": [
    "doc = nlp('The University of Amsterdam is a Dutch higher education institution located in Amsterdam.')\n",
    "print([(ent.text, ent.kb_id_, ent._.dbpedia_raw_result['@similarityScore']) for ent in doc.ents])"
   ]
  },
  {
   "cell_type": "markdown",
   "metadata": {},
   "source": [
    "Interesting. It no longer recognizes the university in my case.\n",
    "\n",
    "**Part 4**\n",
    "\n",
    "Now, it's your turn to experiment with entity linking. Find a paragraph of text anywhere in your target language -- text with concrete names of persons, organizations, locations, events, ... (like news) may have more entities than abstract philosophy -- and try it for yourself. How well does this work?  Did it find all or most entities?  Do you see \"errors\"? "
   ]
  },
  {
   "cell_type": "code",
   "execution_count": 83,
   "metadata": {},
   "outputs": [],
   "source": [
    "# Your experimentation here"
   ]
  },
  {
   "cell_type": "markdown",
   "metadata": {},
   "source": [
    "**(Your answer here)**"
   ]
  },
  {
   "cell_type": "markdown",
   "metadata": {},
   "source": [
    "Now assume you have a large text corpus annotated in this way (think up your own corpus of interest, or otherwise think about the corpus of movie reviews you explored earlier).   \n",
    "\n",
    "Can you think up something you could explore using these annotations? E.g. if we remember the movie reviews collection from Assignment 2 we could look at particular actors, but also about comparing male and female actors as two groups, and doing aggregated queries about male and female actor mentions in the whole corpus of negative and positive movie reviews (similar to the SPARQL queries earlier)."
   ]
  },
  {
   "cell_type": "markdown",
   "metadata": {},
   "source": [
    "**(Your answer here)**\n"
   ]
  }
 ],
 "metadata": {
  "colab": {
   "provenance": []
  },
  "kernelspec": {
   "display_name": "Python 3 (ipykernel)",
   "language": "python",
   "name": "python3"
  },
  "language_info": {
   "codemirror_mode": {
    "name": "ipython",
    "version": 3
   },
   "file_extension": ".py",
   "mimetype": "text/x-python",
   "name": "python",
   "nbconvert_exporter": "python",
   "pygments_lexer": "ipython3",
   "version": "3.8.10"
  }
 },
 "nbformat": 4,
 "nbformat_minor": 4
}
